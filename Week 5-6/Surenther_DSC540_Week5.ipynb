{
 "cells": [
  {
   "cell_type": "markdown",
   "metadata": {},
   "source": [
    "### Activity 5.01: Reading Tabular Data from a Web Page and Creating DataFrames\n",
    "\n"
   ]
  },
  {
   "cell_type": "code",
   "execution_count": 49,
   "metadata": {},
   "outputs": [],
   "source": [
    "# Ignore all Warnings\n",
    "import warnings\n",
    "warnings.filterwarnings('ignore')"
   ]
  },
  {
   "cell_type": "code",
   "execution_count": 50,
   "metadata": {},
   "outputs": [
    {
     "name": "stdout",
     "output_type": "stream",
     "text": [
      "Requests status Code: 200\n"
     ]
    }
   ],
   "source": [
    "# Make a get requests to Wikipedia using Requests\n",
    "\n",
    "import requests\n",
    "page= requests.get ('https://en.wikipedia.org/wiki/List_of_countries_by_GDP_(nominal)')\n",
    "print (f'Requests status Code:',page.status_code)\n"
   ]
  },
  {
   "cell_type": "code",
   "execution_count": 51,
   "metadata": {},
   "outputs": [],
   "source": [
    "# Read the page using bs4\n",
    "\n",
    "from bs4 import BeautifulSoup\n",
    "soup = BeautifulSoup(page.text,'html.parser') #Read the page from requests response using html parser"
   ]
  },
  {
   "cell_type": "code",
   "execution_count": 52,
   "metadata": {},
   "outputs": [
    {
     "name": "stdout",
     "output_type": "stream",
     "text": [
      "Total Tables: 7\n"
     ]
    }
   ],
   "source": [
    "# Count the no of tablular data \n",
    "\n",
    "table = soup.findAll(\"table\")  #Scan all the table\n",
    "print (f'Total Tables:',len(table)) "
   ]
  },
  {
   "cell_type": "code",
   "execution_count": 53,
   "metadata": {},
   "outputs": [
    {
     "name": "stdout",
     "output_type": "stream",
     "text": [
      "Table 1: \n",
      " No of rows: 2 \n",
      " No of columns: 0\n",
      "Table 2: \n",
      " No of rows: 1 \n",
      " No of columns: 0\n",
      "Table 3: \n",
      " No of rows: 212 \n",
      " No of columns: 6\n",
      "Table 4: \n",
      " No of rows: 10 \n",
      " No of columns: 6\n",
      "Table 5: \n",
      " No of rows: 9 \n",
      " No of columns: 6\n",
      "Table 6: \n",
      " No of rows: 14 \n",
      " No of columns: 6\n",
      "Table 7: \n",
      " No of rows: 2 \n",
      " No of columns: 6\n"
     ]
    }
   ],
   "source": [
    "# Find the right table by finding no of rows and columns for each table\n",
    "\n",
    "cntr = 0 \n",
    "num_cols = 0\n",
    "\n",
    "for data in table:\n",
    "    cntr += 1  #Increment the Counter to display Table index\n",
    "    rows = data.find_all('tr') #Find all the tr to find no of rows\n",
    "    \n",
    "    for row in rows: #To find no of columns loop through each row\n",
    "        cols = row.find_all(['th']) #Find all the header\n",
    "        num_cols = max(num_cols, len(cols)) # Get the max of the count\n",
    "\n",
    "    print (f'Table {cntr}: \\n No of rows: {len(rows)} \\n No of columns: {num_cols}')"
   ]
  },
  {
   "cell_type": "markdown",
   "metadata": {},
   "source": [
    "From the above we can identity that we need to use Table 3"
   ]
  },
  {
   "cell_type": "code",
   "execution_count": 54,
   "metadata": {},
   "outputs": [
    {
     "name": "stdout",
     "output_type": "stream",
     "text": [
      "IMF Forecast \n",
      "\n",
      "          Country  IMF_Forecast  IMF_Year\n",
      "0           World   115494312.0    2025.0\n",
      "1   United States    30338000.0    2025.0\n",
      "2           China    19535000.0    2025.0\n",
      "3         Germany     4922000.0    2025.0\n",
      "4           Japan     4390000.0    2025.0\n",
      "5           India     4270000.0    2025.0\n",
      "6  United Kingdom     3731000.0    2025.0\n",
      "7          France     3284000.0    2025.0\n",
      "8           Italy     2460000.0    2025.0\n",
      "9          Canada     2331000.0    2025.0\n",
      "\n",
      "\n",
      "World Bank Forecast \n",
      "\n",
      "          Country  WB_Estimate  WB_Year\n",
      "0           World  105435540.0   2023.0\n",
      "1   United States   27360935.0   2023.0\n",
      "2           China   17794782.0   2023.0\n",
      "3         Germany    4456081.0   2023.0\n",
      "4           Japan    4212945.0   2023.0\n",
      "5           India    3549919.0   2023.0\n",
      "6  United Kingdom    3340032.0   2023.0\n",
      "7          France    3030904.0   2023.0\n",
      "8           Italy    2254851.0   2023.0\n",
      "9          Canada    2140086.0   2023.0\n",
      "\n",
      "\n",
      "United Nation Forecast \n",
      "\n",
      "          Country  UN_Estimate  UN_Year\n",
      "0           World  100834796.0   2022.0\n",
      "1   United States   25744100.0   2022.0\n",
      "2           China   17963170.0   2022.0\n",
      "3         Germany    4076923.0   2022.0\n",
      "4           Japan    4232173.0   2022.0\n",
      "5           India    3465541.0   2022.0\n",
      "6  United Kingdom    3089072.0   2022.0\n",
      "7          France    2775316.0   2022.0\n",
      "8           Italy    2046952.0   2022.0\n",
      "9          Canada    2137939.0   2022.0\n",
      "\n",
      "\n"
     ]
    }
   ],
   "source": [
    "import pandas as pd\n",
    "import re\n",
    "\n",
    "# Define the regular expression pattern for removing unwanted chars in year\n",
    "pattern = r'\\[n\\s+\\d+\\]'\n",
    "\n",
    "rows = table[2].find_all('tr')[2:]  # Get all the rows other than header for the table 3\n",
    "\n",
    "# Extract data\n",
    "data = []\n",
    "for row in rows:\n",
    "    cols = [re.sub(pattern, '',col.get_text(strip=True)).replace(',', '') for col in row.find_all('td')]  #Extract human readable text from td tag and replace value like [n 1], \",\"\n",
    "    data.append(cols) #Append all the data\n",
    "    \n",
    "# Create main dataframe\n",
    "df = pd.DataFrame(data, columns=[\n",
    "    'Country', 'IMF_Forecast', 'IMF_Year',\n",
    "    'WB_Estimate', 'WB_Year', 'UN_Estimate', 'UN_Year'\n",
    "])\n",
    "\n",
    "# Convert numeric columns\n",
    "for col in df.columns[1:]:\n",
    "    df[col] = pd.to_numeric(df[col], errors='coerce')\n",
    "\n",
    "# Create separate dataframes\n",
    "df_imf = df[['Country', 'IMF_Forecast', 'IMF_Year']]\n",
    "df_wb = df[['Country', 'WB_Estimate', 'WB_Year']]\n",
    "df_un = df[['Country', 'UN_Estimate', 'UN_Year']]\n",
    "\n",
    "#Print different dataframe\n",
    "print (\"IMF Forecast \\n\")\n",
    "print(df_imf.head (10))\n",
    "print(\"\\n\")\n",
    "\n",
    "print (\"World Bank Forecast \\n\")\n",
    "print(df_wb.head (10))\n",
    "print(\"\\n\")\n",
    "\n",
    "print (\"United Nation Forecast \\n\")\n",
    "print(df_un.head (10))\n",
    "print(\"\\n\")\n",
    "\n"
   ]
  }
 ],
 "metadata": {
  "kernelspec": {
   "display_name": ".venv",
   "language": "python",
   "name": "python3"
  },
  "language_info": {
   "codemirror_mode": {
    "name": "ipython",
    "version": 3
   },
   "file_extension": ".py",
   "mimetype": "text/x-python",
   "name": "python",
   "nbconvert_exporter": "python",
   "pygments_lexer": "ipython3",
   "version": "3.9.6"
  }
 },
 "nbformat": 4,
 "nbformat_minor": 2
}
