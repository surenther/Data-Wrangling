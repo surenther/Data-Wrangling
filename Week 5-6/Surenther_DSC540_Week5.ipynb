{
 "cells": [
  {
   "cell_type": "markdown",
   "metadata": {},
   "source": [
    "### Activity 5.01: Reading Tabular Data from a Web Page and Creating DataFrames\n",
    "\n"
   ]
  },
  {
   "cell_type": "code",
   "execution_count": 1,
   "metadata": {},
   "outputs": [],
   "source": [
    "# Ignore all Warnings\n",
    "import warnings\n",
    "warnings.filterwarnings('ignore')"
   ]
  },
  {
   "cell_type": "code",
   "execution_count": 2,
   "metadata": {},
   "outputs": [
    {
     "name": "stdout",
     "output_type": "stream",
     "text": [
      "Requests status Code: 200\n"
     ]
    }
   ],
   "source": [
    "# Make a get requests to Wikipedia using Requests\n",
    "\n",
    "import requests\n",
    "page= requests.get ('https://en.wikipedia.org/wiki/List_of_countries_by_GDP_(nominal)')\n",
    "print (f'Requests status Code:',page.status_code)\n"
   ]
  },
  {
   "cell_type": "code",
   "execution_count": 3,
   "metadata": {},
   "outputs": [],
   "source": [
    "# Read the page using bs4\n",
    "\n",
    "from bs4 import BeautifulSoup\n",
    "soup = BeautifulSoup(page.text,'html.parser') #Read the page from requests response using html parser"
   ]
  },
  {
   "cell_type": "code",
   "execution_count": 4,
   "metadata": {},
   "outputs": [
    {
     "name": "stdout",
     "output_type": "stream",
     "text": [
      "Total Tables: 7\n"
     ]
    }
   ],
   "source": [
    "# Count the no of tablular data \n",
    "\n",
    "table = soup.findAll(\"table\")  #Scan all the table\n",
    "print (f'Total Tables:',len(table)) "
   ]
  },
  {
   "cell_type": "code",
   "execution_count": 5,
   "metadata": {},
   "outputs": [
    {
     "name": "stdout",
     "output_type": "stream",
     "text": [
      "Table 1: \n",
      " No of rows: 2 \n",
      " No of columns: 0\n",
      "Table 2: \n",
      " No of rows: 1 \n",
      " No of columns: 0\n",
      "Table 3: \n",
      " No of rows: 212 \n",
      " No of columns: 6\n",
      "Table 4: \n",
      " No of rows: 10 \n",
      " No of columns: 6\n",
      "Table 5: \n",
      " No of rows: 9 \n",
      " No of columns: 6\n",
      "Table 6: \n",
      " No of rows: 14 \n",
      " No of columns: 6\n",
      "Table 7: \n",
      " No of rows: 2 \n",
      " No of columns: 6\n"
     ]
    }
   ],
   "source": [
    "# Find the right table by finding no of rows and columns for each table\n",
    "\n",
    "cntr = 0 \n",
    "num_cols = 0\n",
    "\n",
    "for data in table:\n",
    "    cntr += 1  #Increment the Counter to display Table index\n",
    "    rows = data.find_all('tr') #Find all the tr to find no of rows\n",
    "    \n",
    "    for row in rows: #To find no of columns loop through each row\n",
    "        cols = row.find_all(['th']) #Find all the header\n",
    "        num_cols = max(num_cols, len(cols)) # Get the max of the count\n",
    "\n",
    "    print (f'Table {cntr}: \\n No of rows: {len(rows)} \\n No of columns: {num_cols}')"
   ]
  },
  {
   "cell_type": "markdown",
   "metadata": {},
   "source": [
    "From the above we can identity that we need to use Table 3"
   ]
  },
  {
   "cell_type": "code",
   "execution_count": 6,
   "metadata": {},
   "outputs": [
    {
     "name": "stdout",
     "output_type": "stream",
     "text": [
      "IMF Forecast \n",
      "\n",
      "          Country  IMF_Forecast  IMF_Year\n",
      "0           World   115494312.0    2025.0\n",
      "1   United States    30338000.0    2025.0\n",
      "2           China    19535000.0    2025.0\n",
      "3         Germany     4922000.0    2025.0\n",
      "4           Japan     4390000.0    2025.0\n",
      "5           India     4270000.0    2025.0\n",
      "6  United Kingdom     3731000.0    2025.0\n",
      "7          France     3284000.0    2025.0\n",
      "8           Italy     2460000.0    2025.0\n",
      "9          Canada     2331000.0    2025.0\n",
      "\n",
      "\n",
      "World Bank Forecast \n",
      "\n",
      "          Country  WB_Estimate  WB_Year\n",
      "0           World  105435540.0   2023.0\n",
      "1   United States   27360935.0   2023.0\n",
      "2           China   17794782.0   2023.0\n",
      "3         Germany    4456081.0   2023.0\n",
      "4           Japan    4212945.0   2023.0\n",
      "5           India    3549919.0   2023.0\n",
      "6  United Kingdom    3340032.0   2023.0\n",
      "7          France    3030904.0   2023.0\n",
      "8           Italy    2254851.0   2023.0\n",
      "9          Canada    2140086.0   2023.0\n",
      "\n",
      "\n",
      "United Nation Forecast \n",
      "\n",
      "          Country  UN_Estimate  UN_Year\n",
      "0           World  100834796.0   2022.0\n",
      "1   United States   25744100.0   2022.0\n",
      "2           China   17963170.0   2022.0\n",
      "3         Germany    4076923.0   2022.0\n",
      "4           Japan    4232173.0   2022.0\n",
      "5           India    3465541.0   2022.0\n",
      "6  United Kingdom    3089072.0   2022.0\n",
      "7          France    2775316.0   2022.0\n",
      "8           Italy    2046952.0   2022.0\n",
      "9          Canada    2137939.0   2022.0\n",
      "\n",
      "\n"
     ]
    }
   ],
   "source": [
    "import pandas as pd\n",
    "import re\n",
    "\n",
    "# Define the regular expression pattern for removing unwanted chars in year\n",
    "pattern = r'\\[n\\s+\\d+\\]'\n",
    "\n",
    "rows = table[2].find_all('tr')[2:]  # Get all the rows other than header for the table 3\n",
    "\n",
    "# Extract data\n",
    "data = []\n",
    "for row in rows:\n",
    "    cols = [re.sub(pattern, '',col.get_text(strip=True)).replace(',', '') for col in row.find_all('td')]  #Extract human readable text from td tag and replace value like [n 1], \",\"\n",
    "    data.append(cols) #Append all the data\n",
    "    \n",
    "# Create main dataframe\n",
    "df = pd.DataFrame(data, columns=[\n",
    "    'Country', 'IMF_Forecast', 'IMF_Year',\n",
    "    'WB_Estimate', 'WB_Year', 'UN_Estimate', 'UN_Year'\n",
    "])\n",
    "\n",
    "# Convert numeric columns\n",
    "for col in df.columns[1:]:\n",
    "    df[col] = pd.to_numeric(df[col], errors='coerce')\n",
    "\n",
    "# Create separate dataframes\n",
    "df_imf = df[['Country', 'IMF_Forecast', 'IMF_Year']]\n",
    "df_wb = df[['Country', 'WB_Estimate', 'WB_Year']]\n",
    "df_un = df[['Country', 'UN_Estimate', 'UN_Year']]\n",
    "\n",
    "#Print different dataframe\n",
    "print (\"IMF Forecast \\n\")\n",
    "print(df_imf.head (10))\n",
    "print(\"\\n\")\n",
    "\n",
    "print (\"World Bank Forecast \\n\")\n",
    "print(df_wb.head (10))\n",
    "print(\"\\n\")\n",
    "\n",
    "print (\"United Nation Forecast \\n\")\n",
    "print(df_un.head (10))\n",
    "print(\"\\n\")\n",
    "\n"
   ]
  },
  {
   "cell_type": "markdown",
   "metadata": {},
   "source": [
    "### Activity 6.01: Handling Outliers and Missing Data\n"
   ]
  },
  {
   "cell_type": "code",
   "execution_count": 9,
   "metadata": {},
   "outputs": [
    {
     "data": {
      "text/html": [
       "<div>\n",
       "<style scoped>\n",
       "    .dataframe tbody tr th:only-of-type {\n",
       "        vertical-align: middle;\n",
       "    }\n",
       "\n",
       "    .dataframe tbody tr th {\n",
       "        vertical-align: top;\n",
       "    }\n",
       "\n",
       "    .dataframe thead th {\n",
       "        text-align: right;\n",
       "    }\n",
       "</style>\n",
       "<table border=\"1\" class=\"dataframe\">\n",
       "  <thead>\n",
       "    <tr style=\"text-align: right;\">\n",
       "      <th></th>\n",
       "      <th>id</th>\n",
       "      <th>first_name</th>\n",
       "      <th>last_name</th>\n",
       "      <th>email</th>\n",
       "      <th>gender</th>\n",
       "      <th>ip_address</th>\n",
       "      <th>visit</th>\n",
       "    </tr>\n",
       "  </thead>\n",
       "  <tbody>\n",
       "    <tr>\n",
       "      <th>0</th>\n",
       "      <td>1</td>\n",
       "      <td>Sonny</td>\n",
       "      <td>Dahl</td>\n",
       "      <td>sdahl0@mysql.com</td>\n",
       "      <td>Male</td>\n",
       "      <td>135.36.96.183</td>\n",
       "      <td>1225.0</td>\n",
       "    </tr>\n",
       "    <tr>\n",
       "      <th>1</th>\n",
       "      <td>2</td>\n",
       "      <td>NaN</td>\n",
       "      <td>NaN</td>\n",
       "      <td>dhoovart1@hud.gov</td>\n",
       "      <td>NaN</td>\n",
       "      <td>237.165.194.143</td>\n",
       "      <td>919.0</td>\n",
       "    </tr>\n",
       "    <tr>\n",
       "      <th>2</th>\n",
       "      <td>3</td>\n",
       "      <td>Gar</td>\n",
       "      <td>Armal</td>\n",
       "      <td>garmal2@technorati.com</td>\n",
       "      <td>NaN</td>\n",
       "      <td>166.43.137.224</td>\n",
       "      <td>271.0</td>\n",
       "    </tr>\n",
       "    <tr>\n",
       "      <th>3</th>\n",
       "      <td>4</td>\n",
       "      <td>Chiarra</td>\n",
       "      <td>Nulty</td>\n",
       "      <td>cnulty3@newyorker.com</td>\n",
       "      <td>NaN</td>\n",
       "      <td>139.98.137.108</td>\n",
       "      <td>1002.0</td>\n",
       "    </tr>\n",
       "    <tr>\n",
       "      <th>4</th>\n",
       "      <td>5</td>\n",
       "      <td>NaN</td>\n",
       "      <td>NaN</td>\n",
       "      <td>sleaver4@elegantthemes.com</td>\n",
       "      <td>NaN</td>\n",
       "      <td>46.117.117.27</td>\n",
       "      <td>2434.0</td>\n",
       "    </tr>\n",
       "  </tbody>\n",
       "</table>\n",
       "</div>"
      ],
      "text/plain": [
       "   id first_name last_name                       email gender  \\\n",
       "0   1      Sonny      Dahl            sdahl0@mysql.com   Male   \n",
       "1   2        NaN       NaN           dhoovart1@hud.gov    NaN   \n",
       "2   3        Gar     Armal      garmal2@technorati.com    NaN   \n",
       "3   4    Chiarra     Nulty       cnulty3@newyorker.com    NaN   \n",
       "4   5        NaN       NaN  sleaver4@elegantthemes.com    NaN   \n",
       "\n",
       "        ip_address   visit  \n",
       "0    135.36.96.183  1225.0  \n",
       "1  237.165.194.143   919.0  \n",
       "2   166.43.137.224   271.0  \n",
       "3   139.98.137.108  1002.0  \n",
       "4    46.117.117.27  2434.0  "
      ]
     },
     "execution_count": 9,
     "metadata": {},
     "output_type": "execute_result"
    }
   ],
   "source": [
    "# Reading CSV\n",
    "df = pd.read_csv(\"visit_data.csv\") #Read csv\n",
    "df.head(5)"
   ]
  },
  {
   "cell_type": "code",
   "execution_count": 20,
   "metadata": {},
   "outputs": [
    {
     "name": "stdout",
     "output_type": "stream",
     "text": [
      "\n",
      "Column 'id' has no duplicate values.\n",
      "\n",
      "Column 'first_name' has 24 duplicate values.\n",
      "\n",
      "Column 'last_name' has 5 duplicate values.\n",
      "\n",
      "Column 'email' has no duplicate values.\n",
      "\n",
      "Column 'gender' has 3 duplicate values.\n",
      "\n",
      "Column 'ip_address' has no duplicate values.\n",
      "\n",
      "Column 'visit' has 125 duplicate values.\n"
     ]
    }
   ],
   "source": [
    "#Finding Duplicates\n",
    "\n",
    "# Loop through each column and check for duplicates\n",
    "for col in df.columns:\n",
    "    duplicate_values = df[col][df[col].duplicated()] #Identity the unique duplicate values\n",
    "    if not duplicate_values.empty:\n",
    "        print(f\"\\nColumn '{col}' has {len(duplicate_values.unique())} duplicate values.\") #Print the total duplicate values for the column\n",
    "    else:\n",
    "        print(f\"\\nColumn '{col}' has no duplicate values.\")"
   ]
  },
  {
   "cell_type": "code",
   "execution_count": 24,
   "metadata": {},
   "outputs": [
    {
     "name": "stdout",
     "output_type": "stream",
     "text": [
      "\n",
      "Column 'id' has no Nan values.\n",
      "\n",
      "Column 'first_name' has 1 Nan values.\n",
      "\n",
      "Column 'last_name' has 1 Nan values.\n",
      "\n",
      "Column 'email' has no Nan values.\n",
      "\n",
      "Column 'gender' has 1 Nan values.\n",
      "\n",
      "Column 'ip_address' has no Nan values.\n",
      "\n",
      "Column 'visit' has 1 Nan values.\n"
     ]
    }
   ],
   "source": [
    "#Finding Nan\n",
    "\n",
    "# Loop through each column and check for Nan\n",
    "for col in df.columns:\n",
    "    null_values = df[col][df[col].isna()] #Identity the Null value\n",
    "    if not null_values.empty:\n",
    "        print(f\"\\nColumn '{col}' has {len(null_values.unique())} Nan values.\") #Print the total Null values for the column\n",
    "    else:\n",
    "        print(f\"\\nColumn '{col}' has no Nan values.\")"
   ]
  },
  {
   "cell_type": "code",
   "execution_count": null,
   "metadata": {},
   "outputs": [
    {
     "name": "stdout",
     "output_type": "stream",
     "text": [
      "Count before removing Outliers: 1000\n",
      "Count after removing Outliers: 974\n"
     ]
    }
   ],
   "source": [
    "#Identity Outliers\n",
    "\n",
    "from scipy import stats\n",
    "import numpy as np\n",
    "\n",
    "# Select only numeric columns\n",
    "numeric_cols = df.select_dtypes(include=[np.number]) #Select only visit\n",
    "\n",
    "# Calculate Z-scores\n",
    "z_scores = np.abs(stats.zscore(numeric_cols, nan_policy='omit'))\n",
    "\n",
    "# Keep rows where all Z-scores are below 3\n",
    "df_no_outliers = df[(z_scores < 3).all(axis=1)]\n",
    "\n",
    "#Print the record count before and after removing outlier\n",
    "print(f'Count before removing Outliers: {len(df)}')\n",
    "print(f'Count after removing Outliers: {len(df_no_outliers)}')\n"
   ]
  },
  {
   "cell_type": "code",
   "execution_count": 33,
   "metadata": {},
   "outputs": [
    {
     "data": {
      "image/png": "[encoded data removed]",
      "text/plain": [
       "<Figure size 1000x600 with 1 Axes>"
      ]
     },
     "metadata": {},
     "output_type": "display_data"
    }
   ],
   "source": [
    "#Display the box plot for Numeric (Visit) Column\n",
    "import matplotlib.pyplot as plt\n",
    "\n",
    "#Box plot\n",
    "plt.figure(figsize=(10, 6))\n",
    "plt.boxplot(df[\"visit\"].dropna())\n",
    "plt.title(f\"Box Plot for visit\")\n",
    "plt.ylabel(\"Values\")\n",
    "plt.grid(True)\n",
    "plt.show()"
   ]
  },
  {
   "cell_type": "markdown",
   "metadata": {},
   "source": [
    "Observation: \\\n",
    "Form the Box Plot, we understand the most of the values are in between ~700 to ~2700\n",
    "\n",
    "To remove Outliers, remove the values less than 100 and greater then 2900"
   ]
  },
  {
   "cell_type": "code",
   "execution_count": 34,
   "metadata": {},
   "outputs": [
    {
     "name": "stdout",
     "output_type": "stream",
     "text": [
      "Count before removing Outliers: 1000\n",
      "Count after removing Outliers: 923\n"
     ]
    }
   ],
   "source": [
    "# Remove Outliers \n",
    "\n",
    "# Keep only rows where visit is between 100 and 2900\n",
    "df_no_outliers = df_no_outliers[(df_no_outliers['visit'] >= 100) & (df_no_outliers['visit'] <= 2900)]\n",
    "\n",
    "#Print the record count before and after removing outlier\n",
    "print(f'Count before removing Outliers: {len(df)}')\n",
    "print(f'Count after removing Outliers: {len(df_no_outliers)}')"
   ]
  },
  {
   "cell_type": "markdown",
   "metadata": {},
   "source": [
    "### Assignment: Create SQL Lite DB & Insert data"
   ]
  },
  {
   "cell_type": "code",
   "execution_count": 36,
   "metadata": {},
   "outputs": [
    {
     "name": "stdout",
     "output_type": "stream",
     "text": [
      "           Name        Address           City State    Zip   PhoneNumber\n",
      "0   Alice Smith   123 Maple St         Boston    MA  02101  617-123-4567\n",
      "1   Bob Johnson     456 Oak St       New York    NY  10001  212-555-7890\n",
      "2   Carol White    789 Pine St        Chicago    IL  60601  312-777-3456\n",
      "3     David Lee   321 Birch St  San Francisco    CA  94101  415-888-6543\n",
      "4      Eva King   654 Cedar St        Seattle    WA  98101  206-222-1111\n",
      "5   Frank Moore  987 Walnut St         Austin    TX  73301  512-333-0000\n",
      "6    Grace Hill     135 Elm St         Denver    CO  80201  303-123-9876\n",
      "7   Henry Green  246 Spruce St          Miami    FL  33101  305-678-1234\n",
      "8     Ivy Adams  357 Willow St        Atlanta    GA  30301  404-456-7890\n",
      "9    Jack Brown   468 Aspen St        Phoenix    AZ  85001  602-999-8888\n",
      "10  Alice Smith   123 Maple St         Boston    MA  02101  617-123-4567\n",
      "11  Bob Johnson     456 Oak St       New York    NY  10001  212-555-7890\n",
      "12  Carol White    789 Pine St        Chicago    IL  60601  312-777-3456\n",
      "13    David Lee   321 Birch St  San Francisco    CA  94101  415-888-6543\n",
      "14     Eva King   654 Cedar St        Seattle    WA  98101  206-222-1111\n",
      "15  Frank Moore  987 Walnut St         Austin    TX  73301  512-333-0000\n",
      "16   Grace Hill     135 Elm St         Denver    CO  80201  303-123-9876\n",
      "17  Henry Green  246 Spruce St          Miami    FL  33101  305-678-1234\n",
      "18    Ivy Adams  357 Willow St        Atlanta    GA  30301  404-456-7890\n",
      "19   Jack Brown   468 Aspen St        Phoenix    AZ  85001  602-999-8888\n"
     ]
    }
   ],
   "source": [
    "import sqlite3\n",
    "\n",
    "# Create SQlite DB and Connect\n",
    "conn = sqlite3.connect(\"people.db\")\n",
    "cursor = conn.cursor()\n",
    "\n",
    "# Create a table\n",
    "cursor.execute('''\n",
    "    CREATE TABLE IF NOT EXISTS contacts (\n",
    "        Name TEXT,\n",
    "        Address TEXT,\n",
    "        City TEXT,\n",
    "        State TEXT,\n",
    "        Zip TEXT,\n",
    "        PhoneNumber TEXT\n",
    "    )\n",
    "''')\n",
    "\n",
    "# Create Sample data list\n",
    "data = [\n",
    "    (\"Alice Smith\", \"123 Maple St\", \"Boston\", \"MA\", \"02101\", \"617-123-4567\"),\n",
    "    (\"Bob Johnson\", \"456 Oak St\", \"New York\", \"NY\", \"10001\", \"212-555-7890\"),\n",
    "    (\"Carol White\", \"789 Pine St\", \"Chicago\", \"IL\", \"60601\", \"312-777-3456\"),\n",
    "    (\"David Lee\", \"321 Birch St\", \"San Francisco\", \"CA\", \"94101\", \"415-888-6543\"),\n",
    "    (\"Eva King\", \"654 Cedar St\", \"Seattle\", \"WA\", \"98101\", \"206-222-1111\"),\n",
    "    (\"Frank Moore\", \"987 Walnut St\", \"Austin\", \"TX\", \"73301\", \"512-333-0000\"),\n",
    "    (\"Grace Hill\", \"135 Elm St\", \"Denver\", \"CO\", \"80201\", \"303-123-9876\"),\n",
    "    (\"Henry Green\", \"246 Spruce St\", \"Miami\", \"FL\", \"33101\", \"305-678-1234\"),\n",
    "    (\"Ivy Adams\", \"357 Willow St\", \"Atlanta\", \"GA\", \"30301\", \"404-456-7890\"),\n",
    "    (\"Jack Brown\", \"468 Aspen St\", \"Phoenix\", \"AZ\", \"85001\", \"602-999-8888\")\n",
    "]\n",
    "\n",
    "cursor.executemany('INSERT INTO contacts VALUES (?, ?, ?, ?, ?, ?)', data) #Executemany iterates based on the data\n",
    "conn.commit()\n",
    "\n",
    "# Query and display the results\n",
    "df = pd.read_sql_query(\"SELECT * FROM contacts\", conn)\n",
    "print(df)\n",
    "\n",
    "# Close the connection\n",
    "conn.close()"
   ]
  }
 ],
 "metadata": {
  "kernelspec": {
   "display_name": ".venv",
   "language": "python",
   "name": "python3"
  },
  "language_info": {
   "codemirror_mode": {
    "name": "ipython",
    "version": 3
   },
   "file_extension": ".py",
   "mimetype": "text/x-python",
   "name": "python",
   "nbconvert_exporter": "python",
   "pygments_lexer": "ipython3",
   "version": "3.9.6"
  }
 },
 "nbformat": 4,
 "nbformat_minor": 2
}
