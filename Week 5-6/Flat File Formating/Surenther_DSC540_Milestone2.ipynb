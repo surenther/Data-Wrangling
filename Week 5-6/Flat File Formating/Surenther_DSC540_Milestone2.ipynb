{
 "cells": [
  {
   "cell_type": "markdown",
   "id": "3414e4c8",
   "metadata": {},
   "source": [
    "<div style=\"text-align: center;\">\n",
    "  <h2>Milestone 2: Formatting Flat File Source</h2>\n",
    "</div>"
   ]
  },
  {
   "cell_type": "markdown",
   "id": "e996298a",
   "metadata": {},
   "source": [
    "## Data Source and Handling\n",
    "\n",
    "The dataset used in this project was sourced from FAOSTAT: [https://www.fao.org/faostat/en/#data/QCL](https://www.fao.org/faostat/en/#data/QCL).\n",
    "\n",
    "Due to its large size (approximately 520MB), the CSV file has been excluded from Git version control to maintain repository efficiency.\n"
   ]
  },
  {
   "cell_type": "markdown",
   "id": "bbe77976",
   "metadata": {},
   "source": [
    "## Steps"
   ]
  },
  {
   "cell_type": "markdown",
   "id": "d6ebe4c0",
   "metadata": {},
   "source": [
    "### 1 - Import necessary Libraries"
   ]
  },
  {
   "cell_type": "code",
   "execution_count": 22,
   "id": "22685758",
   "metadata": {},
   "outputs": [],
   "source": [
    "import pandas as pd"
   ]
  },
  {
   "cell_type": "markdown",
   "id": "c484736d",
   "metadata": {},
   "source": [
    "### 2 - Reading CSV file\n",
    "\n"
   ]
  },
  {
   "cell_type": "code",
   "execution_count": 23,
   "id": "32df4901",
   "metadata": {},
   "outputs": [
    {
     "data": {
      "text/html": [
       "<div>\n",
       "<style scoped>\n",
       "    .dataframe tbody tr th:only-of-type {\n",
       "        vertical-align: middle;\n",
       "    }\n",
       "\n",
       "    .dataframe tbody tr th {\n",
       "        vertical-align: top;\n",
       "    }\n",
       "\n",
       "    .dataframe thead th {\n",
       "        text-align: right;\n",
       "    }\n",
       "</style>\n",
       "<table border=\"1\" class=\"dataframe\">\n",
       "  <thead>\n",
       "    <tr style=\"text-align: right;\">\n",
       "      <th></th>\n",
       "      <th>Area Code</th>\n",
       "      <th>Area Code (M49)</th>\n",
       "      <th>Area</th>\n",
       "      <th>Item Code</th>\n",
       "      <th>Item Code (CPC)</th>\n",
       "      <th>Item</th>\n",
       "      <th>Element Code</th>\n",
       "      <th>Element</th>\n",
       "      <th>Year Code</th>\n",
       "      <th>Year</th>\n",
       "      <th>Unit</th>\n",
       "      <th>Value</th>\n",
       "      <th>Flag</th>\n",
       "      <th>Note</th>\n",
       "    </tr>\n",
       "  </thead>\n",
       "  <tbody>\n",
       "    <tr>\n",
       "      <th>0</th>\n",
       "      <td>2</td>\n",
       "      <td>'004</td>\n",
       "      <td>Afghanistan</td>\n",
       "      <td>221</td>\n",
       "      <td>'01371</td>\n",
       "      <td>Almonds, in shell</td>\n",
       "      <td>5312</td>\n",
       "      <td>Area harvested</td>\n",
       "      <td>1961</td>\n",
       "      <td>1961</td>\n",
       "      <td>ha</td>\n",
       "      <td>0.0</td>\n",
       "      <td>A</td>\n",
       "      <td>NaN</td>\n",
       "    </tr>\n",
       "    <tr>\n",
       "      <th>1</th>\n",
       "      <td>2</td>\n",
       "      <td>'004</td>\n",
       "      <td>Afghanistan</td>\n",
       "      <td>221</td>\n",
       "      <td>'01371</td>\n",
       "      <td>Almonds, in shell</td>\n",
       "      <td>5312</td>\n",
       "      <td>Area harvested</td>\n",
       "      <td>1962</td>\n",
       "      <td>1962</td>\n",
       "      <td>ha</td>\n",
       "      <td>0.0</td>\n",
       "      <td>A</td>\n",
       "      <td>NaN</td>\n",
       "    </tr>\n",
       "    <tr>\n",
       "      <th>2</th>\n",
       "      <td>2</td>\n",
       "      <td>'004</td>\n",
       "      <td>Afghanistan</td>\n",
       "      <td>221</td>\n",
       "      <td>'01371</td>\n",
       "      <td>Almonds, in shell</td>\n",
       "      <td>5312</td>\n",
       "      <td>Area harvested</td>\n",
       "      <td>1963</td>\n",
       "      <td>1963</td>\n",
       "      <td>ha</td>\n",
       "      <td>0.0</td>\n",
       "      <td>A</td>\n",
       "      <td>NaN</td>\n",
       "    </tr>\n",
       "    <tr>\n",
       "      <th>3</th>\n",
       "      <td>2</td>\n",
       "      <td>'004</td>\n",
       "      <td>Afghanistan</td>\n",
       "      <td>221</td>\n",
       "      <td>'01371</td>\n",
       "      <td>Almonds, in shell</td>\n",
       "      <td>5312</td>\n",
       "      <td>Area harvested</td>\n",
       "      <td>1964</td>\n",
       "      <td>1964</td>\n",
       "      <td>ha</td>\n",
       "      <td>0.0</td>\n",
       "      <td>A</td>\n",
       "      <td>NaN</td>\n",
       "    </tr>\n",
       "    <tr>\n",
       "      <th>4</th>\n",
       "      <td>2</td>\n",
       "      <td>'004</td>\n",
       "      <td>Afghanistan</td>\n",
       "      <td>221</td>\n",
       "      <td>'01371</td>\n",
       "      <td>Almonds, in shell</td>\n",
       "      <td>5312</td>\n",
       "      <td>Area harvested</td>\n",
       "      <td>1965</td>\n",
       "      <td>1965</td>\n",
       "      <td>ha</td>\n",
       "      <td>0.0</td>\n",
       "      <td>A</td>\n",
       "      <td>NaN</td>\n",
       "    </tr>\n",
       "  </tbody>\n",
       "</table>\n",
       "</div>"
      ],
      "text/plain": [
       "   Area Code Area Code (M49)         Area  Item Code Item Code (CPC)  \\\n",
       "0          2            '004  Afghanistan        221          '01371   \n",
       "1          2            '004  Afghanistan        221          '01371   \n",
       "2          2            '004  Afghanistan        221          '01371   \n",
       "3          2            '004  Afghanistan        221          '01371   \n",
       "4          2            '004  Afghanistan        221          '01371   \n",
       "\n",
       "                Item  Element Code         Element  Year Code  Year Unit  \\\n",
       "0  Almonds, in shell          5312  Area harvested       1961  1961   ha   \n",
       "1  Almonds, in shell          5312  Area harvested       1962  1962   ha   \n",
       "2  Almonds, in shell          5312  Area harvested       1963  1963   ha   \n",
       "3  Almonds, in shell          5312  Area harvested       1964  1964   ha   \n",
       "4  Almonds, in shell          5312  Area harvested       1965  1965   ha   \n",
       "\n",
       "   Value Flag Note  \n",
       "0    0.0    A  NaN  \n",
       "1    0.0    A  NaN  \n",
       "2    0.0    A  NaN  \n",
       "3    0.0    A  NaN  \n",
       "4    0.0    A  NaN  "
      ]
     },
     "execution_count": 23,
     "metadata": {},
     "output_type": "execute_result"
    }
   ],
   "source": [
    "# Reading CSV\n",
    "df = pd.read_csv(\"Production_Crops_Livestock.csv\",dtype={'Note': str}) #Setting the Data Type Manually to avoid mixed data type Warnings\n",
    "df.head(5)"
   ]
  },
  {
   "cell_type": "markdown",
   "id": "61743bb7",
   "metadata": {},
   "source": [
    "### 3 - Remove Unwanted Columns\n",
    "\n",
    "Removing all the code columns like Area Code, Item Code etc .. from the dataframe. \n",
    "\n",
    "These columns are not necessary because the data is already normalized"
   ]
  },
  {
   "cell_type": "code",
   "execution_count": 24,
   "id": "f33f9e37",
   "metadata": {},
   "outputs": [
    {
     "data": {
      "text/html": [
       "<div>\n",
       "<style scoped>\n",
       "    .dataframe tbody tr th:only-of-type {\n",
       "        vertical-align: middle;\n",
       "    }\n",
       "\n",
       "    .dataframe tbody tr th {\n",
       "        vertical-align: top;\n",
       "    }\n",
       "\n",
       "    .dataframe thead th {\n",
       "        text-align: right;\n",
       "    }\n",
       "</style>\n",
       "<table border=\"1\" class=\"dataframe\">\n",
       "  <thead>\n",
       "    <tr style=\"text-align: right;\">\n",
       "      <th></th>\n",
       "      <th>Area</th>\n",
       "      <th>Item</th>\n",
       "      <th>Element</th>\n",
       "      <th>Year</th>\n",
       "      <th>Unit</th>\n",
       "      <th>Value</th>\n",
       "      <th>Flag</th>\n",
       "      <th>Note</th>\n",
       "    </tr>\n",
       "  </thead>\n",
       "  <tbody>\n",
       "    <tr>\n",
       "      <th>0</th>\n",
       "      <td>Afghanistan</td>\n",
       "      <td>Almonds, in shell</td>\n",
       "      <td>Area harvested</td>\n",
       "      <td>1961</td>\n",
       "      <td>ha</td>\n",
       "      <td>0.0</td>\n",
       "      <td>A</td>\n",
       "      <td>NaN</td>\n",
       "    </tr>\n",
       "    <tr>\n",
       "      <th>1</th>\n",
       "      <td>Afghanistan</td>\n",
       "      <td>Almonds, in shell</td>\n",
       "      <td>Area harvested</td>\n",
       "      <td>1962</td>\n",
       "      <td>ha</td>\n",
       "      <td>0.0</td>\n",
       "      <td>A</td>\n",
       "      <td>NaN</td>\n",
       "    </tr>\n",
       "    <tr>\n",
       "      <th>2</th>\n",
       "      <td>Afghanistan</td>\n",
       "      <td>Almonds, in shell</td>\n",
       "      <td>Area harvested</td>\n",
       "      <td>1963</td>\n",
       "      <td>ha</td>\n",
       "      <td>0.0</td>\n",
       "      <td>A</td>\n",
       "      <td>NaN</td>\n",
       "    </tr>\n",
       "    <tr>\n",
       "      <th>3</th>\n",
       "      <td>Afghanistan</td>\n",
       "      <td>Almonds, in shell</td>\n",
       "      <td>Area harvested</td>\n",
       "      <td>1964</td>\n",
       "      <td>ha</td>\n",
       "      <td>0.0</td>\n",
       "      <td>A</td>\n",
       "      <td>NaN</td>\n",
       "    </tr>\n",
       "    <tr>\n",
       "      <th>4</th>\n",
       "      <td>Afghanistan</td>\n",
       "      <td>Almonds, in shell</td>\n",
       "      <td>Area harvested</td>\n",
       "      <td>1965</td>\n",
       "      <td>ha</td>\n",
       "      <td>0.0</td>\n",
       "      <td>A</td>\n",
       "      <td>NaN</td>\n",
       "    </tr>\n",
       "  </tbody>\n",
       "</table>\n",
       "</div>"
      ],
      "text/plain": [
       "          Area               Item         Element  Year Unit  Value Flag Note\n",
       "0  Afghanistan  Almonds, in shell  Area harvested  1961   ha    0.0    A  NaN\n",
       "1  Afghanistan  Almonds, in shell  Area harvested  1962   ha    0.0    A  NaN\n",
       "2  Afghanistan  Almonds, in shell  Area harvested  1963   ha    0.0    A  NaN\n",
       "3  Afghanistan  Almonds, in shell  Area harvested  1964   ha    0.0    A  NaN\n",
       "4  Afghanistan  Almonds, in shell  Area harvested  1965   ha    0.0    A  NaN"
      ]
     },
     "execution_count": 24,
     "metadata": {},
     "output_type": "execute_result"
    }
   ],
   "source": [
    "#Removing Columns\n",
    "columns_to_remove = ['Area Code', 'Area Code (M49)','Item Code','Item Code (CPC)','Element Code','Year Code'] #List with unwanted columns\n",
    "df = df.drop(columns_to_remove, axis=1) # Store in new dataframe\n",
    "\n",
    "df.head(5)"
   ]
  },
  {
   "cell_type": "markdown",
   "id": "9ab050d5",
   "metadata": {},
   "source": [
    "### 4 - Check the distinct Value for Unit, Flag and Note\n",
    "\n",
    "Checking the Distint values of multiple fields to determine the need."
   ]
  },
  {
   "cell_type": "code",
   "execution_count": 25,
   "id": "c244fc96",
   "metadata": {},
   "outputs": [
    {
     "name": "stdout",
     "output_type": "stream",
     "text": [
      "['ha' 'kg/ha' 't' 'An' '1000 An' 'No/An' 'g/An' '1000 No' 'kg/An' 'No']\n",
      "['A' 'E' 'X' 'I' 'M']\n",
      "[nan 'Unofficial figure']\n"
     ]
    }
   ],
   "source": [
    "#Finding Distinct values\n",
    "print(df['Unit'].unique())\n",
    "print(df['Flag'].unique())\n",
    "print(df['Note'].unique())"
   ]
  },
  {
   "cell_type": "markdown",
   "id": "2a205cca",
   "metadata": {},
   "source": [
    "### 5 - Replace the Distinct values with the description\n",
    "\n",
    "All the values are indictors of some description. Replace the indicators with the description taken from the site"
   ]
  },
  {
   "cell_type": "code",
   "execution_count": 26,
   "id": "d2a78a28",
   "metadata": {},
   "outputs": [
    {
     "data": {
      "text/html": [
       "<div>\n",
       "<style scoped>\n",
       "    .dataframe tbody tr th:only-of-type {\n",
       "        vertical-align: middle;\n",
       "    }\n",
       "\n",
       "    .dataframe tbody tr th {\n",
       "        vertical-align: top;\n",
       "    }\n",
       "\n",
       "    .dataframe thead th {\n",
       "        text-align: right;\n",
       "    }\n",
       "</style>\n",
       "<table border=\"1\" class=\"dataframe\">\n",
       "  <thead>\n",
       "    <tr style=\"text-align: right;\">\n",
       "      <th></th>\n",
       "      <th>Area</th>\n",
       "      <th>Item</th>\n",
       "      <th>Element</th>\n",
       "      <th>Year</th>\n",
       "      <th>Unit</th>\n",
       "      <th>Value</th>\n",
       "      <th>Flag</th>\n",
       "      <th>Note</th>\n",
       "    </tr>\n",
       "  </thead>\n",
       "  <tbody>\n",
       "    <tr>\n",
       "      <th>0</th>\n",
       "      <td>Afghanistan</td>\n",
       "      <td>Almonds, in shell</td>\n",
       "      <td>Area harvested</td>\n",
       "      <td>1961</td>\n",
       "      <td>Hectares</td>\n",
       "      <td>0.0</td>\n",
       "      <td>Official figure</td>\n",
       "      <td>NaN</td>\n",
       "    </tr>\n",
       "    <tr>\n",
       "      <th>1</th>\n",
       "      <td>Afghanistan</td>\n",
       "      <td>Almonds, in shell</td>\n",
       "      <td>Area harvested</td>\n",
       "      <td>1962</td>\n",
       "      <td>Hectares</td>\n",
       "      <td>0.0</td>\n",
       "      <td>Official figure</td>\n",
       "      <td>NaN</td>\n",
       "    </tr>\n",
       "    <tr>\n",
       "      <th>2</th>\n",
       "      <td>Afghanistan</td>\n",
       "      <td>Almonds, in shell</td>\n",
       "      <td>Area harvested</td>\n",
       "      <td>1963</td>\n",
       "      <td>Hectares</td>\n",
       "      <td>0.0</td>\n",
       "      <td>Official figure</td>\n",
       "      <td>NaN</td>\n",
       "    </tr>\n",
       "    <tr>\n",
       "      <th>3</th>\n",
       "      <td>Afghanistan</td>\n",
       "      <td>Almonds, in shell</td>\n",
       "      <td>Area harvested</td>\n",
       "      <td>1964</td>\n",
       "      <td>Hectares</td>\n",
       "      <td>0.0</td>\n",
       "      <td>Official figure</td>\n",
       "      <td>NaN</td>\n",
       "    </tr>\n",
       "    <tr>\n",
       "      <th>4</th>\n",
       "      <td>Afghanistan</td>\n",
       "      <td>Almonds, in shell</td>\n",
       "      <td>Area harvested</td>\n",
       "      <td>1965</td>\n",
       "      <td>Hectares</td>\n",
       "      <td>0.0</td>\n",
       "      <td>Official figure</td>\n",
       "      <td>NaN</td>\n",
       "    </tr>\n",
       "  </tbody>\n",
       "</table>\n",
       "</div>"
      ],
      "text/plain": [
       "          Area               Item         Element  Year      Unit  Value  \\\n",
       "0  Afghanistan  Almonds, in shell  Area harvested  1961  Hectares    0.0   \n",
       "1  Afghanistan  Almonds, in shell  Area harvested  1962  Hectares    0.0   \n",
       "2  Afghanistan  Almonds, in shell  Area harvested  1963  Hectares    0.0   \n",
       "3  Afghanistan  Almonds, in shell  Area harvested  1964  Hectares    0.0   \n",
       "4  Afghanistan  Almonds, in shell  Area harvested  1965  Hectares    0.0   \n",
       "\n",
       "              Flag Note  \n",
       "0  Official figure  NaN  \n",
       "1  Official figure  NaN  \n",
       "2  Official figure  NaN  \n",
       "3  Official figure  NaN  \n",
       "4  Official figure  NaN  "
      ]
     },
     "execution_count": 26,
     "metadata": {},
     "output_type": "execute_result"
    }
   ],
   "source": [
    "# Replace values\n",
    "\n",
    "#Replacement values for unit\n",
    "unit_map = {'ha': 'Hectares', 'kg/ha': 'Kilograms per hectare','t':'Tonnes','An':'Animals','No/An':'Number per animal','g/An': 'Grams per animal','1000 No': 'Thousand Number','kg/An':'Kilograms per animal','No':'Number'}\n",
    "#Replace Unit values\n",
    "df['Unit'] = df['Unit'].replace(unit_map)\n",
    "\n",
    "#Replacement values for Flag\n",
    "flag_map = {'A' :'Official figure','E' :'Estimated value','X':'Figure from international organizations','I':'Imputed value','M':'Missing value'}\n",
    "#Replace Flag values\n",
    "df['Flag'] = df['Flag'].replace(flag_map)\n",
    "\n",
    "df.head(5)"
   ]
  },
  {
   "cell_type": "markdown",
   "id": "246a3018",
   "metadata": {},
   "source": [
    "### 6 - Remove Note Column\n",
    "\n",
    "Form the above analysis seems Note column not giving much insight. It is mostly having NaN and other information \"Unoffical Figure\" is already available under Flag column"
   ]
  },
  {
   "cell_type": "code",
   "execution_count": 27,
   "id": "e89e8232",
   "metadata": {},
   "outputs": [
    {
     "name": "stdout",
     "output_type": "stream",
     "text": [
      "Total records: 4126411\n"
     ]
    }
   ],
   "source": [
    "#Remove Note column\n",
    "df = df.drop('Note', axis=1) \n",
    "\n",
    "print (f'Total records:',len(df))"
   ]
  },
  {
   "cell_type": "markdown",
   "id": "1eb84fec",
   "metadata": {},
   "source": [
    "### 7 - Remove data not related to crops/vegetables\n",
    "\n",
    "I am interested only in Crops/Vegetables data to remove the other unwanted values, i am filtering on unit column for the values of 'Hectares' , 'tonnes' & 'Kg per Hactares'\n"
   ]
  },
  {
   "cell_type": "code",
   "execution_count": 28,
   "id": "79864af9",
   "metadata": {},
   "outputs": [
    {
     "name": "stdout",
     "output_type": "stream",
     "text": [
      "Total records of crops data: 3349665\n"
     ]
    }
   ],
   "source": [
    "#Remove data other than Crops/Vegetables\n",
    "df = df[(df['Unit'] == 'Hectares') | (df['Unit'] == 'Kilograms per hectare') |(df['Unit'] == 'Tonnes')]\n",
    "\n",
    "print (f'Total records of crops data:',len(df))"
   ]
  },
  {
   "cell_type": "markdown",
   "id": "22565769",
   "metadata": {},
   "source": [
    "### 8 - Selecting only Production Unit\n",
    "\n",
    "I am considering only Production data from this dataset. Other information are taken from other dataset in future."
   ]
  },
  {
   "cell_type": "code",
   "execution_count": 29,
   "id": "f616f432",
   "metadata": {},
   "outputs": [
    {
     "name": "stdout",
     "output_type": "stream",
     "text": [
      "Total records of prodution data: 1633092\n"
     ]
    }
   ],
   "source": [
    "#Selecting only Production Element\n",
    "df = df[(df['Element'] == 'Production')]\n",
    "\n",
    "print (f'Total records of prodution data:',len(df))"
   ]
  },
  {
   "cell_type": "markdown",
   "id": "39ed2c6b",
   "metadata": {},
   "source": [
    "### 9 - Remove records having value as 0\n",
    "\n",
    "Zero value indicates either unavailable or bad data"
   ]
  },
  {
   "cell_type": "code",
   "execution_count": 30,
   "id": "d3e12cfb",
   "metadata": {},
   "outputs": [
    {
     "name": "stdout",
     "output_type": "stream",
     "text": [
      "Total records after removing 0 Value 1509323\n"
     ]
    }
   ],
   "source": [
    "#Remove data that have value as 0\n",
    "df=df[(df['Value'] > 0)]\n",
    "\n",
    "print (f'Total records after removing 0 Value',len(df))"
   ]
  },
  {
   "cell_type": "markdown",
   "id": "2d0a3557",
   "metadata": {},
   "source": [
    "### 9 - Identifying/Removing Outliers\n",
    "\n",
    "I am using Z-scores to identify the Outliers for the value column. "
   ]
  },
  {
   "cell_type": "code",
   "execution_count": 31,
   "id": "9898cf56",
   "metadata": {},
   "outputs": [
    {
     "name": "stdout",
     "output_type": "stream",
     "text": [
      "Count before removing Outliers: 1509323\n",
      "Count after removing Outliers: 1501241\n"
     ]
    },
    {
     "data": {
      "text/html": [
       "<div>\n",
       "<style scoped>\n",
       "    .dataframe tbody tr th:only-of-type {\n",
       "        vertical-align: middle;\n",
       "    }\n",
       "\n",
       "    .dataframe tbody tr th {\n",
       "        vertical-align: top;\n",
       "    }\n",
       "\n",
       "    .dataframe thead th {\n",
       "        text-align: right;\n",
       "    }\n",
       "</style>\n",
       "<table border=\"1\" class=\"dataframe\">\n",
       "  <thead>\n",
       "    <tr style=\"text-align: right;\">\n",
       "      <th></th>\n",
       "      <th>Area</th>\n",
       "      <th>Item</th>\n",
       "      <th>Element</th>\n",
       "      <th>Year</th>\n",
       "      <th>Unit</th>\n",
       "      <th>Value</th>\n",
       "      <th>Flag</th>\n",
       "    </tr>\n",
       "  </thead>\n",
       "  <tbody>\n",
       "    <tr>\n",
       "      <th>126</th>\n",
       "      <td>Afghanistan</td>\n",
       "      <td>Almonds, in shell</td>\n",
       "      <td>Production</td>\n",
       "      <td>1976</td>\n",
       "      <td>Tonnes</td>\n",
       "      <td>9800.00</td>\n",
       "      <td>Estimated value</td>\n",
       "    </tr>\n",
       "    <tr>\n",
       "      <th>127</th>\n",
       "      <td>Afghanistan</td>\n",
       "      <td>Almonds, in shell</td>\n",
       "      <td>Production</td>\n",
       "      <td>1977</td>\n",
       "      <td>Tonnes</td>\n",
       "      <td>9000.00</td>\n",
       "      <td>Estimated value</td>\n",
       "    </tr>\n",
       "    <tr>\n",
       "      <th>128</th>\n",
       "      <td>Afghanistan</td>\n",
       "      <td>Almonds, in shell</td>\n",
       "      <td>Production</td>\n",
       "      <td>1978</td>\n",
       "      <td>Tonnes</td>\n",
       "      <td>12000.00</td>\n",
       "      <td>Estimated value</td>\n",
       "    </tr>\n",
       "    <tr>\n",
       "      <th>129</th>\n",
       "      <td>Afghanistan</td>\n",
       "      <td>Almonds, in shell</td>\n",
       "      <td>Production</td>\n",
       "      <td>1979</td>\n",
       "      <td>Tonnes</td>\n",
       "      <td>10500.00</td>\n",
       "      <td>Estimated value</td>\n",
       "    </tr>\n",
       "    <tr>\n",
       "      <th>130</th>\n",
       "      <td>Afghanistan</td>\n",
       "      <td>Almonds, in shell</td>\n",
       "      <td>Production</td>\n",
       "      <td>1980</td>\n",
       "      <td>Tonnes</td>\n",
       "      <td>9900.00</td>\n",
       "      <td>Estimated value</td>\n",
       "    </tr>\n",
       "    <tr>\n",
       "      <th>...</th>\n",
       "      <td>...</td>\n",
       "      <td>...</td>\n",
       "      <td>...</td>\n",
       "      <td>...</td>\n",
       "      <td>...</td>\n",
       "      <td>...</td>\n",
       "      <td>...</td>\n",
       "    </tr>\n",
       "    <tr>\n",
       "      <th>4126401</th>\n",
       "      <td>Net Food Importing Developing Countries</td>\n",
       "      <td>Vegetables Primary</td>\n",
       "      <td>Production</td>\n",
       "      <td>2014</td>\n",
       "      <td>Tonnes</td>\n",
       "      <td>81576818.72</td>\n",
       "      <td>Estimated value</td>\n",
       "    </tr>\n",
       "    <tr>\n",
       "      <th>4126402</th>\n",
       "      <td>Net Food Importing Developing Countries</td>\n",
       "      <td>Vegetables Primary</td>\n",
       "      <td>Production</td>\n",
       "      <td>2015</td>\n",
       "      <td>Tonnes</td>\n",
       "      <td>85136254.08</td>\n",
       "      <td>Estimated value</td>\n",
       "    </tr>\n",
       "    <tr>\n",
       "      <th>4126403</th>\n",
       "      <td>Net Food Importing Developing Countries</td>\n",
       "      <td>Vegetables Primary</td>\n",
       "      <td>Production</td>\n",
       "      <td>2016</td>\n",
       "      <td>Tonnes</td>\n",
       "      <td>84933484.08</td>\n",
       "      <td>Estimated value</td>\n",
       "    </tr>\n",
       "    <tr>\n",
       "      <th>4126404</th>\n",
       "      <td>Net Food Importing Developing Countries</td>\n",
       "      <td>Vegetables Primary</td>\n",
       "      <td>Production</td>\n",
       "      <td>2017</td>\n",
       "      <td>Tonnes</td>\n",
       "      <td>85513605.40</td>\n",
       "      <td>Estimated value</td>\n",
       "    </tr>\n",
       "    <tr>\n",
       "      <th>4126405</th>\n",
       "      <td>Net Food Importing Developing Countries</td>\n",
       "      <td>Vegetables Primary</td>\n",
       "      <td>Production</td>\n",
       "      <td>2018</td>\n",
       "      <td>Tonnes</td>\n",
       "      <td>87663646.42</td>\n",
       "      <td>Estimated value</td>\n",
       "    </tr>\n",
       "  </tbody>\n",
       "</table>\n",
       "<p>1509318 rows × 7 columns</p>\n",
       "</div>"
      ],
      "text/plain": [
       "                                            Area                Item  \\\n",
       "126                                  Afghanistan   Almonds, in shell   \n",
       "127                                  Afghanistan   Almonds, in shell   \n",
       "128                                  Afghanistan   Almonds, in shell   \n",
       "129                                  Afghanistan   Almonds, in shell   \n",
       "130                                  Afghanistan   Almonds, in shell   \n",
       "...                                          ...                 ...   \n",
       "4126401  Net Food Importing Developing Countries  Vegetables Primary   \n",
       "4126402  Net Food Importing Developing Countries  Vegetables Primary   \n",
       "4126403  Net Food Importing Developing Countries  Vegetables Primary   \n",
       "4126404  Net Food Importing Developing Countries  Vegetables Primary   \n",
       "4126405  Net Food Importing Developing Countries  Vegetables Primary   \n",
       "\n",
       "            Element  Year    Unit        Value             Flag  \n",
       "126      Production  1976  Tonnes      9800.00  Estimated value  \n",
       "127      Production  1977  Tonnes      9000.00  Estimated value  \n",
       "128      Production  1978  Tonnes     12000.00  Estimated value  \n",
       "129      Production  1979  Tonnes     10500.00  Estimated value  \n",
       "130      Production  1980  Tonnes      9900.00  Estimated value  \n",
       "...             ...   ...     ...          ...              ...  \n",
       "4126401  Production  2014  Tonnes  81576818.72  Estimated value  \n",
       "4126402  Production  2015  Tonnes  85136254.08  Estimated value  \n",
       "4126403  Production  2016  Tonnes  84933484.08  Estimated value  \n",
       "4126404  Production  2017  Tonnes  85513605.40  Estimated value  \n",
       "4126405  Production  2018  Tonnes  87663646.42  Estimated value  \n",
       "\n",
       "[1509318 rows x 7 columns]"
      ]
     },
     "execution_count": 31,
     "metadata": {},
     "output_type": "execute_result"
    }
   ],
   "source": [
    "from scipy import stats\n",
    "import numpy as np\n",
    "\n",
    "# Select only numeric columns\n",
    "numeric_cols = df.select_dtypes(include=[np.number]) #Select only value\n",
    "\n",
    "# Calculate Z-scores\n",
    "z_scores = np.abs(stats.zscore(numeric_cols, nan_policy='omit'))\n",
    "\n",
    "# Keep rows where all Z-scores are below 3\n",
    "df_no_outliers = df[(z_scores < 3).all(axis=1)]\n",
    "\n",
    "#Print the record count before and after removing outlier\n",
    "print(f'Count before removing Outliers: {len(df)}')\n",
    "print(f'Count after removing Outliers: {len(df_no_outliers)}')\n",
    "\n",
    "df.head (-5)"
   ]
  },
  {
   "cell_type": "markdown",
   "id": "9b4c8d95",
   "metadata": {},
   "source": [
    "### 10- Identifying Duplicates\n",
    "\n",
    "It is expected to have duplicates in most of the column. I added this step just to cross check the value in Element, Unit and Flag"
   ]
  },
  {
   "cell_type": "code",
   "execution_count": 32,
   "id": "1464239f",
   "metadata": {},
   "outputs": [
    {
     "name": "stdout",
     "output_type": "stream",
     "text": [
      "\n",
      "Column 'Area' has 245 duplicate values.\n",
      "\n",
      "Column 'Item' has 280 duplicate values.\n",
      "\n",
      "Column 'Element' has 1 duplicate values.\n",
      "\n",
      "Column 'Year' has 63 duplicate values.\n",
      "\n",
      "Column 'Unit' has 1 duplicate values.\n",
      "\n",
      "Column 'Value' has 141172 duplicate values.\n",
      "\n",
      "Column 'Flag' has 4 duplicate values.\n"
     ]
    }
   ],
   "source": [
    "#Finding Duplicates\n",
    "\n",
    "# Loop through each column and check for duplicates\n",
    "for col in df.columns:\n",
    "    duplicate_values = df[col][df[col].duplicated()] #Identity the unique duplicate values\n",
    "    if not duplicate_values.empty:\n",
    "        print(f\"\\nColumn '{col}' has {len(duplicate_values.unique())} duplicate values.\") #Print the total duplicate values for the column\n",
    "    else:\n",
    "        print(f\"\\nColumn '{col}' has no duplicate values.\")"
   ]
  }
 ],
 "metadata": {
  "kernelspec": {
   "display_name": ".venv",
   "language": "python",
   "name": "python3"
  },
  "language_info": {
   "codemirror_mode": {
    "name": "ipython",
    "version": 3
   },
   "file_extension": ".py",
   "mimetype": "text/x-python",
   "name": "python",
   "nbconvert_exporter": "python",
   "pygments_lexer": "ipython3",
   "version": "3.9.6"
  }
 },
 "nbformat": 4,
 "nbformat_minor": 5
}
