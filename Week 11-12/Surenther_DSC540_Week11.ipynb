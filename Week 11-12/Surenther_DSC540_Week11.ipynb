{
 "cells": [
  {
   "cell_type": "markdown",
   "id": "9be8ea63",
   "metadata": {},
   "source": [
    "### Activity 8.01: Retrieving Data Accurately from Databases"
   ]
  },
  {
   "cell_type": "code",
   "execution_count": 62,
   "id": "61711a5a",
   "metadata": {},
   "outputs": [],
   "source": [
    "# Import Necessary Libraries\n",
    "import sqlite3\n",
    "import pandas as pd"
   ]
  },
  {
   "cell_type": "code",
   "execution_count": 63,
   "id": "e4b0b5a8",
   "metadata": {},
   "outputs": [
    {
     "name": "stdout",
     "output_type": "stream",
     "text": [
      "Persons Table:\n",
      "     id first_name last_name  age        city  zip_code\n",
      "0     1      Erica      None   22  south port   2345678\n",
      "1     2      Jordi      None   73   east port    123456\n",
      "2     3    Chasity      None   70    new port  76856785\n",
      "3     4      Gregg      None   31    new port  76856785\n",
      "4     5       Tony  Lindgren    7   west port   2345678\n",
      "..  ...        ...       ...  ...         ...       ...\n",
      "95   96    Ernesto      None   69   east port   9756543\n",
      "96   97   Josianne      None   14   west port  76856785\n",
      "97   98      Hilma   Waelchi   48   east port   9756543\n",
      "98   99     Otilia   Gleason   66    new port   9756543\n",
      "99  100     Adrian  Schinner    5  south port  76856785\n",
      "\n",
      "[100 rows x 6 columns]\n",
      "\n",
      "Pets Table:\n",
      "     owner_id pet_name  pet_type  treatment_done\n",
      "0          57     mani       1.0               0\n",
      "1          80   tamari       NaN               0\n",
      "2          25     raba       NaN               0\n",
      "3          27     olga       NaN               0\n",
      "4          60     raba       NaN               0\n",
      "..        ...      ...       ...             ...\n",
      "145        86    fenga       1.0               0\n",
      "146        87     palu       1.0               0\n",
      "147        26   snoopy       1.0               0\n",
      "148        36     nani       1.0               0\n",
      "149        22     helu       1.0               1\n",
      "\n",
      "[150 rows x 4 columns]\n"
     ]
    }
   ],
   "source": [
    "# Connect to the SQLite database\n",
    "db_path = 'petsdb'\n",
    "conn = sqlite3.connect(db_path)\n",
    "cursor = conn.cursor()\n",
    "\n",
    "# Read the 'persons' table into a pandas DataFrame\n",
    "persons_df = pd.read_sql_query(\"SELECT * FROM persons\", conn)\n",
    "print(\"Persons Table:\")\n",
    "print(persons_df)\n",
    "\n",
    "# Read the 'pets' table into a pandas DataFrame\n",
    "pets_df = pd.read_sql_query(\"SELECT * FROM pets\", conn)\n",
    "print(\"\\nPets Table:\")\n",
    "print(pets_df)\n",
    "\n"
   ]
  },
  {
   "cell_type": "code",
   "execution_count": 64,
   "id": "18e13b39",
   "metadata": {},
   "outputs": [
    {
     "name": "stdout",
     "output_type": "stream",
     "text": [
      "We have 2 people aged 5\n",
      "We have 1 people aged 6\n",
      "We have 1 people aged 7\n",
      "We have 3 people aged 8\n",
      "We have 1 people aged 9\n",
      "We have 2 people aged 11\n",
      "We have 3 people aged 12\n",
      "We have 1 people aged 13\n",
      "We have 4 people aged 14\n",
      "We have 2 people aged 16\n",
      "We have 2 people aged 17\n",
      "We have 3 people aged 18\n",
      "We have 1 people aged 19\n",
      "We have 3 people aged 22\n",
      "We have 2 people aged 23\n",
      "We have 3 people aged 24\n",
      "We have 2 people aged 25\n",
      "We have 1 people aged 27\n",
      "We have 1 people aged 30\n",
      "We have 3 people aged 31\n",
      "We have 1 people aged 32\n",
      "We have 1 people aged 33\n",
      "We have 2 people aged 34\n",
      "We have 3 people aged 35\n",
      "We have 3 people aged 36\n",
      "We have 1 people aged 37\n",
      "We have 2 people aged 39\n",
      "We have 1 people aged 40\n",
      "We have 1 people aged 42\n",
      "We have 2 people aged 44\n",
      "We have 2 people aged 48\n",
      "We have 1 people aged 49\n",
      "We have 1 people aged 50\n",
      "We have 2 people aged 51\n",
      "We have 2 people aged 52\n",
      "We have 2 people aged 53\n",
      "We have 2 people aged 54\n",
      "We have 1 people aged 58\n",
      "We have 1 people aged 59\n",
      "We have 1 people aged 60\n",
      "We have 1 people aged 61\n",
      "We have 2 people aged 62\n",
      "We have 1 people aged 63\n",
      "We have 2 people aged 65\n",
      "We have 2 people aged 66\n",
      "We have 1 people aged 67\n",
      "We have 3 people aged 68\n",
      "We have 1 people aged 69\n",
      "We have 1 people aged 70\n",
      "We have 4 people aged 71\n",
      "We have 1 people aged 72\n",
      "We have 5 people aged 73\n",
      "We have 3 people aged 74\n"
     ]
    }
   ],
   "source": [
    "# Execute SQL query to get age counts\n",
    "cursor.execute(\"SELECT age, COUNT(*) as count FROM persons GROUP BY age ORDER BY age\")\n",
    "\n",
    "# Fetch all results\n",
    "results = cursor.fetchall()\n",
    "\n",
    "# Print formatted output\n",
    "for age, count in results:\n",
    "    print(f\"We have {count} people aged {age}\")"
   ]
  },
  {
   "cell_type": "code",
   "execution_count": 65,
   "id": "210aa35f",
   "metadata": {},
   "outputs": [
    {
     "name": "stdout",
     "output_type": "stream",
     "text": [
      "Highest number of people is 5 and came form 73 age group.\n"
     ]
    }
   ],
   "source": [
    "# Execute the SQL query to find the age with the maximum number of people\n",
    "cursor.execute(\"\"\"\n",
    "    SELECT age, COUNT(*) as count\n",
    "    FROM persons\n",
    "    GROUP BY age\n",
    "    ORDER BY count DESC\n",
    "    LIMIT 1\n",
    "\"\"\")\n",
    "\n",
    "# Fetch and print result\n",
    "age, count = cursor.fetchone()\n",
    "print(f\"Highest number of people is {count} and came form {age} age group.\")\n"
   ]
  },
  {
   "cell_type": "code",
   "execution_count": 66,
   "id": "36e4e4f0",
   "metadata": {},
   "outputs": [
    {
     "name": "stdout",
     "output_type": "stream",
     "text": [
      "There are 60 people without a last name.\n"
     ]
    }
   ],
   "source": [
    "# Execute the SQL query to find the number of people without last name\n",
    "cursor.execute(\"\"\"\n",
    "    SELECT COUNT(*) \n",
    "    FROM persons \n",
    "    WHERE last_name IS NULL OR TRIM(last_name) = ''\n",
    "\"\"\")\n",
    "\n",
    "count = cursor.fetchone()[0]\n",
    "print(f\"There are {count} people without a last name.\")"
   ]
  },
  {
   "cell_type": "code",
   "execution_count": 67,
   "id": "11fb9524",
   "metadata": {},
   "outputs": [
    {
     "name": "stdout",
     "output_type": "stream",
     "text": [
      "43 people had more than one pet\n"
     ]
    }
   ],
   "source": [
    "# Execute the SQL query to find the people with more than one pet\n",
    "cursor.execute(\"\"\"\n",
    "    SELECT COUNT(*) \n",
    "    FROM (\n",
    "        SELECT owner_id \n",
    "        FROM pets \n",
    "        GROUP BY owner_id \n",
    "        HAVING COUNT(*) > 1\n",
    "        ) AS multiple_pets;\n",
    "\"\"\")\n",
    "\n",
    "count = cursor.fetchone()[0]\n",
    "print (f\"{count} people had more than one pet\")"
   ]
  },
  {
   "cell_type": "code",
   "execution_count": 68,
   "id": "c09be241",
   "metadata": {},
   "outputs": [
    {
     "name": "stdout",
     "output_type": "stream",
     "text": [
      "36 pets received treatments \n"
     ]
    }
   ],
   "source": [
    "# Execute the SQL query to find the no of pets received treatments\n",
    "cursor.execute(\"\"\"\n",
    "    SELECT COUNT(*) \n",
    "    FROM pets \n",
    "    WHERE treatment_done <> 0;\n",
    "\"\"\")\n",
    "\n",
    "count = cursor.fetchone()[0]\n",
    "print (f\"{count} pets received treatments \")"
   ]
  },
  {
   "cell_type": "code",
   "execution_count": 69,
   "id": "bf37dc3d",
   "metadata": {},
   "outputs": [
    {
     "name": "stdout",
     "output_type": "stream",
     "text": [
      "16 pets received treatments with type identified\n"
     ]
    }
   ],
   "source": [
    "# Execute the SQL query to find the no of pets received treatments with know pet types\n",
    "cursor.execute(\"\"\"\n",
    "    SELECT COUNT(*) \n",
    "    FROM pets \n",
    "    WHERE treatment_done <> 0\n",
    "    AND pet_type is not null;\n",
    "\"\"\")\n",
    "\n",
    "count = cursor.fetchone()[0]\n",
    "print (f\"{count} pets received treatments with type identified\")"
   ]
  },
  {
   "cell_type": "code",
   "execution_count": 70,
   "id": "720042e1",
   "metadata": {},
   "outputs": [
    {
     "name": "stdout",
     "output_type": "stream",
     "text": [
      "49 pets are from the cith East Port\n"
     ]
    }
   ],
   "source": [
    "# Execute the SQL query to find the no of pets from the city eastport\n",
    "cursor.execute(\"\"\"\n",
    "    SELECT COUNT(pr.id) \n",
    "    FROM pets p,\n",
    "    persons pr\n",
    "    WHERE pr.id = p.owner_id\n",
    "    and pr.city = 'east port'\n",
    "\"\"\")\n",
    "\n",
    "count = cursor.fetchone()[0]\n",
    "print (f\"{count} pets are from the cith East Port\")"
   ]
  },
  {
   "cell_type": "code",
   "execution_count": 71,
   "id": "5234dabe",
   "metadata": {},
   "outputs": [
    {
     "name": "stdout",
     "output_type": "stream",
     "text": [
      "11 pets are from the cith East Port received treatment\n"
     ]
    }
   ],
   "source": [
    "# Execute the SQL query to find the no of pets from the city eastport and received treatment\n",
    "cursor.execute(\"\"\"\n",
    "    SELECT COUNT(pr.id) \n",
    "    FROM pets p,\n",
    "    persons pr\n",
    "    WHERE pr.id = p.owner_id\n",
    "    and pr.city = 'east port'\n",
    "    and p.treatment_done <> 0\n",
    "\"\"\")\n",
    "\n",
    "count = cursor.fetchone()[0]\n",
    "print (f\"{count} pets are from the cith East Port received treatment\")"
   ]
  },
  {
   "cell_type": "code",
   "execution_count": 72,
   "id": "bd1e4dfe",
   "metadata": {},
   "outputs": [],
   "source": [
    "#Close the DB connection\n",
    "conn.close()"
   ]
  }
 ],
 "metadata": {
  "kernelspec": {
   "display_name": ".venv",
   "language": "python",
   "name": "python3"
  },
  "language_info": {
   "codemirror_mode": {
    "name": "ipython",
    "version": 3
   },
   "file_extension": ".py",
   "mimetype": "text/x-python",
   "name": "python",
   "nbconvert_exporter": "python",
   "pygments_lexer": "ipython3",
   "version": "3.9.6"
  }
 },
 "nbformat": 4,
 "nbformat_minor": 5
}
