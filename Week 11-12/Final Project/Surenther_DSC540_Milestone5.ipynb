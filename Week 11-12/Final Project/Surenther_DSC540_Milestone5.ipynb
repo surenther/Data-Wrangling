{
 "cells": [
  {
   "cell_type": "markdown",
   "id": "bf0b3cd5",
   "metadata": {},
   "source": [
    "<div style=\"text-align: center;\">\n",
    "  <h2>Milestone 5: Merging the Data and Storing in a Database/Visualizing Data</h2>\n",
    "</div>"
   ]
  },
  {
   "cell_type": "markdown",
   "id": "957222cb",
   "metadata": {},
   "source": [
    "## Data Source and Handling\n",
    "\n",
    "I am consolidating multiple data sources from previous milestone weeks and integrating them into the current analysis. This includes incorporating the Jupyter Notebooks developed earlier to ensure continuity and consistency in the data workflow."
   ]
  },
  {
   "cell_type": "markdown",
   "id": "1929ae0b",
   "metadata": {},
   "source": [
    "## Steps"
   ]
  },
  {
   "cell_type": "markdown",
   "id": "3caba68c",
   "metadata": {},
   "source": [
    "### 1 - Import from Flatfile Formating Data"
   ]
  },
  {
   "cell_type": "code",
<<<<<<< HEAD
   "execution_count": 20,
=======
   "execution_count": 16,
>>>>>>> 33d3cdb (Intial Commit for Milestone 5)
   "id": "11d658c4",
   "metadata": {},
   "outputs": [
    {
     "name": "stdout",
     "output_type": "stream",
     "text": [
      "['ha' 'kg/ha' 't' 'An' '1000 An' 'No/An' 'g/An' '1000 No' 'kg/An' 'No']\n",
      "['A' 'E' 'X' 'I' 'M']\n",
      "[nan 'Unofficial figure']\n",
      "Total records: 4126411\n",
      "Total records of crops data: 3349665\n",
      "Total records of prodution data: 1633092\n",
      "Total records after removing 0 Value 1509323\n",
      "Count before removing Outliers: 1509323\n",
      "Count after removing Outliers: 1501241\n",
      "\n",
      "Column 'Area' has 245 duplicate values.\n",
      "\n",
      "Column 'Item' has 280 duplicate values.\n",
      "\n",
      "Column 'Element' has 1 duplicate values.\n",
      "\n",
      "Column 'Year' has 63 duplicate values.\n",
      "\n",
      "Column 'Unit' has 1 duplicate values.\n",
      "\n",
      "Column 'Value' has 141172 duplicate values.\n",
      "\n",
      "Column 'Flag' has 4 duplicate values.\n"
     ]
    }
   ],
   "source": [
<<<<<<< HEAD
    "# Import from Flatfile Jupyter Notebook\n",
    "%run \"../../Week 5-6/Flat File Formating/Surenther_DSC540_Milestone2.ipynb\""
   ]
  },
  {
   "cell_type": "markdown",
   "id": "e7edfa01",
   "metadata": {},
   "source": [
    "### 2 - Insert the Flatfile datatransformation to SQL lite"
   ]
  },
  {
   "cell_type": "code",
   "execution_count": 21,
   "id": "a1d516c5",
   "metadata": {},
   "outputs": [
    {
     "name": "stdout",
     "output_type": "stream",
     "text": [
      "Flat File Table:\n",
      "          Area                                               Item     Element  \\\n",
      "0  Afghanistan                                  Almonds, in shell  Production   \n",
      "1  Afghanistan  Anise, badian, coriander, cumin, caraway, fenn...  Production   \n",
      "2  Afghanistan                                             Apples  Production   \n",
      "3  Afghanistan                                           Apricots  Production   \n",
      "4  Afghanistan                                             Barley  Production   \n",
      "5  Afghanistan                      Butter and ghee of sheep milk  Production   \n",
      "6  Afghanistan                                 Butter of cow milk  Production   \n",
      "7  Afghanistan                                    Buttermilk, dry  Production   \n",
      "8  Afghanistan                       Cantaloupes and other melons  Production   \n",
      "9  Afghanistan                             Cattle fat, unrendered  Production   \n",
      "\n",
      "   Year    Unit      Value             Flag  \n",
      "0  2021  Tonnes   64256.00  Official figure  \n",
      "1  2021  Tonnes   17876.49  Estimated value  \n",
      "2  2021  Tonnes  321672.00  Official figure  \n",
      "3  2021  Tonnes  207490.00  Official figure  \n",
      "4  2021  Tonnes   65102.00  Official figure  \n",
      "5  2021  Tonnes    3691.94    Imputed value  \n",
      "6  2021  Tonnes   38508.70    Imputed value  \n",
      "7  2021  Tonnes    6157.92    Imputed value  \n",
      "8  2021  Tonnes  763382.89    Imputed value  \n",
      "9  2021  Tonnes    2006.04    Imputed value  \n"
     ]
    }
   ],
   "source": [
    "# Insert the Flatfile datatransformation to SQL lite\n",
    "import sqlite3\n",
    "conn = sqlite3.connect('my_database.db')\n",
    "df.to_sql('flat_file', conn, if_exists='append', index=False)\n",
    "\n",
    "# Read the 'flat_file' table into a pandas DataFrame. I wanted data only for 2021\n",
    "persons_df = pd.read_sql_query(\"SELECT * FROM flat_file where Year = '2021' LIMIT 10\", conn)\n",
    "print(\"Flat File Table:\")\n",
    "print(persons_df)\n",
    "\n",
    "conn.close()"
   ]
=======
    "%run \"../../Week 5-6/Flat File Formating/Surenther_DSC540_Milestone2.ipynb\""
   ]
>>>>>>> 33d3cdb (Intial Commit for Milestone 5)
  }
 ],
 "metadata": {
  "kernelspec": {
   "display_name": ".venv",
   "language": "python",
   "name": "python3"
  },
  "language_info": {
   "codemirror_mode": {
    "name": "ipython",
    "version": 3
   },
   "file_extension": ".py",
   "mimetype": "text/x-python",
   "name": "python",
   "nbconvert_exporter": "python",
   "pygments_lexer": "ipython3",
   "version": "3.9.6"
  }
 },
 "nbformat": 4,
 "nbformat_minor": 5
}
