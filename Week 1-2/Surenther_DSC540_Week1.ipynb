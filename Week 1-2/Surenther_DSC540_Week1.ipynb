{
 "cells": [
  {
   "cell_type": "markdown",
   "metadata": {},
   "source": [
    "### Activity 1.01 - Handling Lists\n",
    "\n"
   ]
  },
  {
   "cell_type": "code",
   "execution_count": null,
   "metadata": {},
   "outputs": [
    {
     "name": "stdout",
     "output_type": "stream",
     "text": [
      "List of 100 random numbers:\n",
      "[407, 84, 536, 291, 598, 483, 901, 757, 14, 143, 258, 565, 99, 112, 706, 428, 113, 747, 960, 734, 958, 764, 458, 878, 533, 141, 875, 19, 672, 379, 978, 152, 501, 700, 965, 549, 563, 32, 367, 253, 328, 485, 572, 547, 167, 601, 122, 158, 893, 478, 953, 918, 67, 654, 29, 26, 938, 453, 915, 645, 498, 317, 305, 156, 555, 119, 810, 610, 53, 573, 966, 330, 351, 37, 675, 684, 58, 947, 335, 667, 579, 532, 336, 204, 608, 668, 282, 432, 445, 268, 994, 966, 459, 196, 618, 463, 819, 796, 553, 220]\n"
     ]
    }
   ],
   "source": [
    "# Generate a list of 100 random numbers\n",
    "import random\n",
    "random_numbers = [random.randint(1, 1000) for _ in range(100)]\n",
    "print(\"List of 100 random numbers:\")\n",
    "print(random_numbers)\n"
   ]
  },
  {
   "cell_type": "code",
   "execution_count": 43,
   "metadata": {},
   "outputs": [
    {
     "name": "stdout",
     "output_type": "stream",
     "text": [
      "List of numbers divisible by 3:\n",
      "[84, 291, 483, 258, 99, 747, 960, 141, 672, 978, 501, 549, 918, 654, 453, 915, 645, 498, 156, 555, 810, 573, 966, 330, 351, 675, 684, 579, 336, 204, 282, 432, 966, 459, 618, 819]\n"
     ]
    }
   ],
   "source": [
    "# List that is divisble by 3\n",
    "div3 = [x for x in random_numbers if x % 3 == 0]\n",
    "print(\"List of numbers divisible by 3:\")\n",
    "print (div3)"
   ]
  },
  {
   "cell_type": "code",
   "execution_count": 44,
   "metadata": {},
   "outputs": [
    {
     "name": "stdout",
     "output_type": "stream",
     "text": [
      "The Difference in length is 64\n"
     ]
    }
   ],
   "source": [
    "### Difference of Length\n",
    "dif_len = len(random_numbers) - len (div3)\n",
    "print (f'The Difference in length is',dif_len)"
   ]
  },
  {
   "cell_type": "code",
   "execution_count": 45,
   "metadata": {},
   "outputs": [
    {
     "name": "stdout",
     "output_type": "stream",
     "text": [
      "The Difference in length for the Iter is 0 35\n",
      "The Difference in length for the Iter is 1 43\n",
      "The Difference in length for the Iter is 2 19\n",
      "The Difference in length for the Iter is 3 28\n",
      "The Difference in length for the Iter is 4 53\n",
      "The Difference in length for the Iter is 5 63\n",
      "The Difference in length for the Iter is 6 28\n",
      "The Difference in length for the Iter is 7 21\n",
      "The Difference in length for the Iter is 8 0\n",
      "The Difference in length for the Iter is 9 32\n"
     ]
    }
   ],
   "source": [
    "# Loop 10 times\n",
    "list_len = []\n",
    "for i in range (10):\n",
    "    random_range = random.randint(0, 100)\n",
    "    num = [random.randint(1, 1000) for _ in range(random_range)]\n",
    "    div_3 = [x for x in num if x % 3 == 0]\n",
    "    if_len = len(num) - len (div_3)\n",
    "    print (f'The Difference in length for the Iter ' + 'is',i,if_len)\n",
    "    list_len.append(if_len)"
   ]
  },
  {
   "cell_type": "code",
   "execution_count": 46,
   "metadata": {},
   "outputs": [
    {
     "name": "stdout",
     "output_type": "stream",
     "text": [
      "Average value of the list: 32.2\n"
     ]
    }
   ],
   "source": [
    "# Mean for the differences\n",
    "import numpy\n",
    "\n",
    "lst_avg = numpy.average(list_len)\n",
    "print(f'Average value of the list:',lst_avg)"
   ]
  }
 ],
 "metadata": {
  "kernelspec": {
   "display_name": ".venv",
   "language": "python",
   "name": "python3"
  },
  "language_info": {
   "codemirror_mode": {
    "name": "ipython",
    "version": 3
   },
   "file_extension": ".py",
   "mimetype": "text/x-python",
   "name": "python",
   "nbconvert_exporter": "python",
   "pygments_lexer": "ipython3",
   "version": "3.10.12"
  }
 },
 "nbformat": 4,
 "nbformat_minor": 2
}
