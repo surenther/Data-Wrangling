{
 "cells": [
  {
   "cell_type": "markdown",
   "metadata": {},
   "source": [
    "### Activity 1.01 - Handling Lists\n",
    "\n"
   ]
  },
  {
   "cell_type": "code",
   "execution_count": null,
   "metadata": {},
   "outputs": [
    {
     "name": "stdout",
     "output_type": "stream",
     "text": [
      "List of 100 random numbers:\n",
      "[407, 84, 536, 291, 598, 483, 901, 757, 14, 143, 258, 565, 99, 112, 706, 428, 113, 747, 960, 734, 958, 764, 458, 878, 533, 141, 875, 19, 672, 379, 978, 152, 501, 700, 965, 549, 563, 32, 367, 253, 328, 485, 572, 547, 167, 601, 122, 158, 893, 478, 953, 918, 67, 654, 29, 26, 938, 453, 915, 645, 498, 317, 305, 156, 555, 119, 810, 610, 53, 573, 966, 330, 351, 37, 675, 684, 58, 947, 335, 667, 579, 532, 336, 204, 608, 668, 282, 432, 445, 268, 994, 966, 459, 196, 618, 463, 819, 796, 553, 220]\n"
     ]
    }
   ],
   "source": [
    "# Generate a list of 100 random numbers\n",
    "import random\n",
    "random_numbers = [random.randint(1, 1000) for _ in range(100)]\n",
    "print(\"List of 100 random numbers:\")\n",
    "print(random_numbers)\n"
   ]
  },
  {
   "cell_type": "code",
   "execution_count": 43,
   "metadata": {},
   "outputs": [
    {
     "name": "stdout",
     "output_type": "stream",
     "text": [
      "List of numbers divisible by 3:\n",
      "[84, 291, 483, 258, 99, 747, 960, 141, 672, 978, 501, 549, 918, 654, 453, 915, 645, 498, 156, 555, 810, 573, 966, 330, 351, 675, 684, 579, 336, 204, 282, 432, 966, 459, 618, 819]\n"
     ]
    }
   ],
   "source": [
    "# List that is divisble by 3\n",
    "div3 = [x for x in random_numbers if x % 3 == 0]\n",
    "print(\"List of numbers divisible by 3:\")\n",
    "print (div3)"
   ]
  },
  {
   "cell_type": "code",
   "execution_count": 44,
   "metadata": {},
   "outputs": [
    {
     "name": "stdout",
     "output_type": "stream",
     "text": [
      "The Difference in length is 64\n"
     ]
    }
   ],
   "source": [
    "### Difference of Length\n",
    "dif_len = len(random_numbers) - len (div3)\n",
    "print (f'The Difference in length is',dif_len)"
   ]
  },
  {
   "cell_type": "code",
   "execution_count": 45,
   "metadata": {},
   "outputs": [
    {
     "name": "stdout",
     "output_type": "stream",
     "text": [
      "The Difference in length for the Iter is 0 35\n",
      "The Difference in length for the Iter is 1 43\n",
      "The Difference in length for the Iter is 2 19\n",
      "The Difference in length for the Iter is 3 28\n",
      "The Difference in length for the Iter is 4 53\n",
      "The Difference in length for the Iter is 5 63\n",
      "The Difference in length for the Iter is 6 28\n",
      "The Difference in length for the Iter is 7 21\n",
      "The Difference in length for the Iter is 8 0\n",
      "The Difference in length for the Iter is 9 32\n"
     ]
    }
   ],
   "source": [
    "# Loop 10 times\n",
    "list_len = []\n",
    "for i in range (10):\n",
    "    random_range = random.randint(0, 100)\n",
    "    num = [random.randint(1, 1000) for _ in range(random_range)]\n",
    "    div_3 = [x for x in num if x % 3 == 0]\n",
    "    if_len = len(num) - len (div_3)\n",
    "    print (f'The Difference in length for the Iter ' + 'is',i,if_len)\n",
    "    list_len.append(if_len)"
   ]
  },
  {
   "cell_type": "code",
   "execution_count": 46,
   "metadata": {},
   "outputs": [
    {
     "name": "stdout",
     "output_type": "stream",
     "text": [
      "Average value of the list: 32.2\n"
     ]
    }
   ],
   "source": [
    "# Mean for the differences\n",
    "import numpy\n",
    "\n",
    "lst_avg = numpy.average(list_len)\n",
    "print(f'Average value of the list:',lst_avg)"
   ]
  },
  {
   "cell_type": "markdown",
   "metadata": {},
   "source": [
    "### Activity 1.02 - Analyzing a Multiline String \n"
   ]
  },
  {
   "cell_type": "code",
   "execution_count": 5,
   "metadata": {},
   "outputs": [
    {
     "name": "stdout",
     "output_type": "stream",
     "text": [
      "It is a truth universally acknowledged, that a single man in possession of a good fortune, must be in want of a wife.\n",
      "\n",
      "However little known the feelings or views of such a man may be on his first entering a neighbourhood, this truth is so well fixed in the minds of the surrounding families, that he is considered the rightful property of some one or other of their daughters.\n",
      "\n",
      "\"My dear Mr. Bennet,\" said his lady to him one day, \"have you heard that Netherfield Park is let at last?\"\n",
      "\n",
      "Mr. Bennet replied that he had not.\n",
      "\n",
      "\"But it is,\" returned she; \"for Mrs. Long has just been here, and she told me all about it.\"\n",
      "\n",
      "Mr. Bennet made no answer.\n",
      "\n",
      "\"Do you not want to know who has taken it?\" cried his wife impatiently.\n",
      "\n",
      "\"You want to tell me, and I have no objection to hearing it.\"\n",
      "\n",
      "This was invitation enough.\n",
      "\n",
      "\"Why, my dear, you must know, Mrs. Long says that Netherfield is taken by a young man of large fortune from the north of England; that he came down on Monday in a chaise and four to see the place, and was so much delighted with it, that he agreed with Mr. Morris immediately; that he is to take possession before Michaelmas, and some of his servants are to be in the house by the end of next week.\"\n",
      "\n",
      "\"What is his name?\"\n",
      "\n",
      "\"Bingley.\"\n",
      "\n",
      "\"Is he married or single?\"\n",
      "\n",
      "\"Oh! Single, my dear, to be sure! A single man of large fortune; four or five thousand a year. What a fine thing for our girls!\"\n",
      "\n",
      "\"How so? How can it affect them?\"\n",
      "\n",
      "\"My dear Mr. Bennet,\" replied his wife, \"how can you be so tiresome! You must know that I am thinking of his marrying one of them.\"\n",
      "\n",
      "\"Is that his design in settling here?\"\n",
      "\n",
      "\"Design! Nonsense, how can you talk so! But it is very likely that he may fall in love with one of them, and therefore you must visit him as soon as he comes.\"\n",
      "\n",
      "\"I see no occasion for that. You and the girls may go, or you may send them by themselves, which perhaps will be still better, for as you are as handsome as any of them, Mr. Bingley may like you the best of the party.\"\n",
      "\n",
      "\"My dear, you flatter me. I certainly have had my share of beauty, but I do not pretend to be anything extraordinary now. When a woman has five grown-up daughters, she ought to give over thinking of her own beauty.\"\n",
      "\n",
      "\"In such cases, a woman has not often much beauty to think of.\"\n",
      "\n",
      "\"But, my dear, you must indeed go and see Mr. Bingley when he comes into the neighbourhood.\"\n",
      "\n",
      "\"It is more than I engage for, I assure you.\"\n",
      "\n",
      "\"But consider your daughters. Only think what an establishment it would be for one of them. Sir William and Lady Lucas are determined to go, merely on that account, for in general, you know, they visit no newcomers. Indeed you must go, for it will be impossible for us to visit him if you do not.\"\n",
      "\n",
      "\"You are over-scrupulous, surely. I dare say Mr. Bingley will be very glad to see you; and I will send a few lines by you to assure him of my hearty consent to his marrying whichever he chooses of the girls; though I must throw in a good word for my little Lizzy.\"\n",
      "\n",
      "\"I desire you will do no such thing. Lizzy is not a bit better than the others; and I am sure she is not half so handsome as Jane, nor half so good-humoured as Lydia. But you are always giving her the preference.\"\n",
      "\n",
      "\"They have none of them much to recommend them,\" replied he; \"they are all silly and ignorant like other girls; but Lizzy has something more of quickness than her sisters.\"\n",
      "\n",
      "\"Mr. Bennet, how can you abuse your own children in such a way? You take delight in vexing me. You have no compassion for my poor nerves.\"\n",
      "\n",
      "\"You mistake me, my dear. I have a high respect for your nerves. They are my old friends. I have heard you mention them with consideration these last twenty years at least.\"\n",
      "\n",
      "\"Ah, you do not know what I suffer.\"\n",
      "\n",
      "\"But I hope you will get over it, and live to see many young men of four thousand a year come into the neighbourhood.\"\n",
      "\n",
      "\"It will be no use to us, if twenty such should come, since you will not visit them.\"\n",
      "\n",
      "\"Depend upon it, my dear, that when there are twenty, I will visit them all.\"\n",
      "\n",
      "Mr. Bennet was so odd a mixture of quick parts, sarcastic humour, reserve, and caprice, that the experience of three-and-twenty years had been insufficient to make his wife understand his character. Her mind was less difficult to develop. She was a woman of mean understanding, little information, and uncertain temper. When she was discontented, she fancied herself nervous. The business of her life was to get her daughters married; its solace was visiting and news. \n"
     ]
    }
   ],
   "source": [
    "#Create a mutliline_text variable\n",
    "\n",
    "multiline_text = \"\"\"It is a truth universally acknowledged, that a single man in possession of a good fortune, must be in want of a wife.\n",
    "\n",
    "However little known the feelings or views of such a man may be on his first entering a neighbourhood, this truth is so well fixed in the minds of the surrounding families, that he is considered the rightful property of some one or other of their daughters.\n",
    "\n",
    "\"My dear Mr. Bennet,\" said his lady to him one day, \"have you heard that Netherfield Park is let at last?\"\n",
    "\n",
    "Mr. Bennet replied that he had not.\n",
    "\n",
    "\"But it is,\" returned she; \"for Mrs. Long has just been here, and she told me all about it.\"\n",
    "\n",
    "Mr. Bennet made no answer.\n",
    "\n",
    "\"Do you not want to know who has taken it?\" cried his wife impatiently.\n",
    "\n",
    "\"You want to tell me, and I have no objection to hearing it.\"\n",
    "\n",
    "This was invitation enough.\n",
    "\n",
    "\"Why, my dear, you must know, Mrs. Long says that Netherfield is taken by a young man of large fortune from the north of England; that he came down on Monday in a chaise and four to see the place, and was so much delighted with it, that he agreed with Mr. Morris immediately; that he is to take possession before Michaelmas, and some of his servants are to be in the house by the end of next week.\"\n",
    "\n",
    "\"What is his name?\"\n",
    "\n",
    "\"Bingley.\"\n",
    "\n",
    "\"Is he married or single?\"\n",
    "\n",
    "\"Oh! Single, my dear, to be sure! A single man of large fortune; four or five thousand a year. What a fine thing for our girls!\"\n",
    "\n",
    "\"How so? How can it affect them?\"\n",
    "\n",
    "\"My dear Mr. Bennet,\" replied his wife, \"how can you be so tiresome! You must know that I am thinking of his marrying one of them.\"\n",
    "\n",
    "\"Is that his design in settling here?\"\n",
    "\n",
    "\"Design! Nonsense, how can you talk so! But it is very likely that he may fall in love with one of them, and therefore you must visit him as soon as he comes.\"\n",
    "\n",
    "\"I see no occasion for that. You and the girls may go, or you may send them by themselves, which perhaps will be still better, for as you are as handsome as any of them, Mr. Bingley may like you the best of the party.\"\n",
    "\n",
    "\"My dear, you flatter me. I certainly have had my share of beauty, but I do not pretend to be anything extraordinary now. When a woman has five grown-up daughters, she ought to give over thinking of her own beauty.\"\n",
    "\n",
    "\"In such cases, a woman has not often much beauty to think of.\"\n",
    "\n",
    "\"But, my dear, you must indeed go and see Mr. Bingley when he comes into the neighbourhood.\"\n",
    "\n",
    "\"It is more than I engage for, I assure you.\"\n",
    "\n",
    "\"But consider your daughters. Only think what an establishment it would be for one of them. Sir William and Lady Lucas are determined to go, merely on that account, for in general, you know, they visit no newcomers. Indeed you must go, for it will be impossible for us to visit him if you do not.\"\n",
    "\n",
    "\"You are over-scrupulous, surely. I dare say Mr. Bingley will be very glad to see you; and I will send a few lines by you to assure him of my hearty consent to his marrying whichever he chooses of the girls; though I must throw in a good word for my little Lizzy.\"\n",
    "\n",
    "\"I desire you will do no such thing. Lizzy is not a bit better than the others; and I am sure she is not half so handsome as Jane, nor half so good-humoured as Lydia. But you are always giving her the preference.\"\n",
    "\n",
    "\"They have none of them much to recommend them,\" replied he; \"they are all silly and ignorant like other girls; but Lizzy has something more of quickness than her sisters.\"\n",
    "\n",
    "\"Mr. Bennet, how can you abuse your own children in such a way? You take delight in vexing me. You have no compassion for my poor nerves.\"\n",
    "\n",
    "\"You mistake me, my dear. I have a high respect for your nerves. They are my old friends. I have heard you mention them with consideration these last twenty years at least.\"\n",
    "\n",
    "\"Ah, you do not know what I suffer.\"\n",
    "\n",
    "\"But I hope you will get over it, and live to see many young men of four thousand a year come into the neighbourhood.\"\n",
    "\n",
    "\"It will be no use to us, if twenty such should come, since you will not visit them.\"\n",
    "\n",
    "\"Depend upon it, my dear, that when there are twenty, I will visit them all.\"\n",
    "\n",
    "Mr. Bennet was so odd a mixture of quick parts, sarcastic humour, reserve, and caprice, that the experience of three-and-twenty years had been insufficient to make his wife understand his character. Her mind was less difficult to develop. She was a woman of mean understanding, little information, and uncertain temper. When she was discontented, she fancied herself nervous. The business of her life was to get her daughters married; its solace was visiting and news. \"\"\"\n",
    "  \n",
    "print(multiline_text)"
   ]
  },
  {
   "cell_type": "code",
   "execution_count": 10,
   "metadata": {},
   "outputs": [
    {
     "name": "stdout",
     "output_type": "stream",
     "text": [
      "The Type of multiline is: <class 'str'>\n",
      "The Length of mutline is: 4475\n"
     ]
    }
   ],
   "source": [
    "# Find the type and length \n",
    "\n",
    "print(f'The Type of multiline is:',type(multiline_text))\n",
    "print(f'The Length of mutline is:',len(multiline_text))"
   ]
  },
  {
   "cell_type": "code",
   "execution_count": null,
   "metadata": {},
   "outputs": [
    {
     "name": "stdout",
     "output_type": "stream",
     "text": [
      "It is a truth universally acknowledged, that a single man in possession of a good fortune, must be in want of a wife.  However little known the feelings or views of such a man may be on his first entering a neighbourhood, this truth is so well fixed in the minds of the surrounding families, that he is considered the rightful property of some one or other of their daughters.  \"My dear Mr. Bennet,\" said his lady to him one day, \"have you heard that Netherfield Park is let at last?\"  Mr. Bennet replied that he had not.  \"But it is,\" returned she; \"for Mrs. Long has just been here, and she told me all about it.\"  Mr. Bennet made no answer.  \"Do you not want to know who has taken it?\" cried his wife impatiently.  \"You want to tell me, and I have no objection to hearing it.\"  This was invitation enough.  \"Why, my dear, you must know, Mrs. Long says that Netherfield is taken by a young man of large fortune from the north of England; that he came down on Monday in a chaise and four to see the place, and was so much delighted with it, that he agreed with Mr. Morris immediately; that he is to take possession before Michaelmas, and some of his servants are to be in the house by the end of next week.\"  \"What is his name?\"  \"Bingley.\"  \"Is he married or single?\"  \"Oh! Single, my dear, to be sure! A single man of large fortune; four or five thousand a year. What a fine thing for our girls!\"  \"How so? How can it affect them?\"  \"My dear Mr. Bennet,\" replied his wife, \"how can you be so tiresome! You must know that I am thinking of his marrying one of them.\"  \"Is that his design in settling here?\"  \"Design! Nonsense, how can you talk so! But it is very likely that he may fall in love with one of them, and therefore you must visit him as soon as he comes.\"  \"I see no occasion for that. You and the girls may go, or you may send them by themselves, which perhaps will be still better, for as you are as handsome as any of them, Mr. Bingley may like you the best of the party.\"  \"My dear, you flatter me. I certainly have had my share of beauty, but I do not pretend to be anything extraordinary now. When a woman has five grown-up daughters, she ought to give over thinking of her own beauty.\"  \"In such cases, a woman has not often much beauty to think of.\"  \"But, my dear, you must indeed go and see Mr. Bingley when he comes into the neighbourhood.\"  \"It is more than I engage for, I assure you.\"  \"But consider your daughters. Only think what an establishment it would be for one of them. Sir William and Lady Lucas are determined to go, merely on that account, for in general, you know, they visit no newcomers. Indeed you must go, for it will be impossible for us to visit him if you do not.\"  \"You are over-scrupulous, surely. I dare say Mr. Bingley will be very glad to see you; and I will send a few lines by you to assure him of my hearty consent to his marrying whichever he chooses of the girls; though I must throw in a good word for my little Lizzy.\"  \"I desire you will do no such thing. Lizzy is not a bit better than the others; and I am sure she is not half so handsome as Jane, nor half so good-humoured as Lydia. But you are always giving her the preference.\"  \"They have none of them much to recommend them,\" replied he; \"they are all silly and ignorant like other girls; but Lizzy has something more of quickness than her sisters.\"  \"Mr. Bennet, how can you abuse your own children in such a way? You take delight in vexing me. You have no compassion for my poor nerves.\"  \"You mistake me, my dear. I have a high respect for your nerves. They are my old friends. I have heard you mention them with consideration these last twenty years at least.\"  \"Ah, you do not know what I suffer.\"  \"But I hope you will get over it, and live to see many young men of four thousand a year come into the neighbourhood.\"  \"It will be no use to us, if twenty such should come, since you will not visit them.\"  \"Depend upon it, my dear, that when there are twenty, I will visit them all.\"  Mr. Bennet was so odd a mixture of quick parts, sarcastic humour, reserve, and caprice, that the experience of three-and-twenty years had been insufficient to make his wife understand his character. Her mind was less difficult to develop. She was a woman of mean understanding, little information, and uncertain temper. When she was discontented, she fancied herself nervous. The business of her life was to get her daughters married; its solace was visiting and news. \n"
     ]
    }
   ],
   "source": [
    "# Remove new lines\n",
    "\n",
    "cleaned_text = multiline_text.replace(\"\\n\", \" \")\n",
    "print (cleaned_text)"
   ]
  },
  {
   "cell_type": "code",
   "execution_count": 12,
   "metadata": {},
   "outputs": [
    {
     "name": "stdout",
     "output_type": "stream",
     "text": [
      "List of words: ['It', 'is', 'a', 'truth', 'universally', 'acknowledged,', 'that', 'a', 'single', 'man', 'in', 'possession', 'of', 'a', 'good', 'fortune,', 'must', 'be', 'in', 'want', 'of', 'a', 'wife.', 'However', 'little', 'known', 'the', 'feelings', 'or', 'views', 'of', 'such', 'a', 'man', 'may', 'be', 'on', 'his', 'first', 'entering', 'a', 'neighbourhood,', 'this', 'truth', 'is', 'so', 'well', 'fixed', 'in', 'the', 'minds', 'of', 'the', 'surrounding', 'families,', 'that', 'he', 'is', 'considered', 'the', 'rightful', 'property', 'of', 'some', 'one', 'or', 'other', 'of', 'their', 'daughters.', '\"My', 'dear', 'Mr.', 'Bennet,\"', 'said', 'his', 'lady', 'to', 'him', 'one', 'day,', '\"have', 'you', 'heard', 'that', 'Netherfield', 'Park', 'is', 'let', 'at', 'last?\"', 'Mr.', 'Bennet', 'replied', 'that', 'he', 'had', 'not.', '\"But', 'it', 'is,\"', 'returned', 'she;', '\"for', 'Mrs.', 'Long', 'has', 'just', 'been', 'here,', 'and', 'she', 'told', 'me', 'all', 'about', 'it.\"', 'Mr.', 'Bennet', 'made', 'no', 'answer.', '\"Do', 'you', 'not', 'want', 'to', 'know', 'who', 'has', 'taken', 'it?\"', 'cried', 'his', 'wife', 'impatiently.', '\"You', 'want', 'to', 'tell', 'me,', 'and', 'I', 'have', 'no', 'objection', 'to', 'hearing', 'it.\"', 'This', 'was', 'invitation', 'enough.', '\"Why,', 'my', 'dear,', 'you', 'must', 'know,', 'Mrs.', 'Long', 'says', 'that', 'Netherfield', 'is', 'taken', 'by', 'a', 'young', 'man', 'of', 'large', 'fortune', 'from', 'the', 'north', 'of', 'England;', 'that', 'he', 'came', 'down', 'on', 'Monday', 'in', 'a', 'chaise', 'and', 'four', 'to', 'see', 'the', 'place,', 'and', 'was', 'so', 'much', 'delighted', 'with', 'it,', 'that', 'he', 'agreed', 'with', 'Mr.', 'Morris', 'immediately;', 'that', 'he', 'is', 'to', 'take', 'possession', 'before', 'Michaelmas,', 'and', 'some', 'of', 'his', 'servants', 'are', 'to', 'be', 'in', 'the', 'house', 'by', 'the', 'end', 'of', 'next', 'week.\"', '\"What', 'is', 'his', 'name?\"', '\"Bingley.\"', '\"Is', 'he', 'married', 'or', 'single?\"', '\"Oh!', 'Single,', 'my', 'dear,', 'to', 'be', 'sure!', 'A', 'single', 'man', 'of', 'large', 'fortune;', 'four', 'or', 'five', 'thousand', 'a', 'year.', 'What', 'a', 'fine', 'thing', 'for', 'our', 'girls!\"', '\"How', 'so?', 'How', 'can', 'it', 'affect', 'them?\"', '\"My', 'dear', 'Mr.', 'Bennet,\"', 'replied', 'his', 'wife,', '\"how', 'can', 'you', 'be', 'so', 'tiresome!', 'You', 'must', 'know', 'that', 'I', 'am', 'thinking', 'of', 'his', 'marrying', 'one', 'of', 'them.\"', '\"Is', 'that', 'his', 'design', 'in', 'settling', 'here?\"', '\"Design!', 'Nonsense,', 'how', 'can', 'you', 'talk', 'so!', 'But', 'it', 'is', 'very', 'likely', 'that', 'he', 'may', 'fall', 'in', 'love', 'with', 'one', 'of', 'them,', 'and', 'therefore', 'you', 'must', 'visit', 'him', 'as', 'soon', 'as', 'he', 'comes.\"', '\"I', 'see', 'no', 'occasion', 'for', 'that.', 'You', 'and', 'the', 'girls', 'may', 'go,', 'or', 'you', 'may', 'send', 'them', 'by', 'themselves,', 'which', 'perhaps', 'will', 'be', 'still', 'better,', 'for', 'as', 'you', 'are', 'as', 'handsome', 'as', 'any', 'of', 'them,', 'Mr.', 'Bingley', 'may', 'like', 'you', 'the', 'best', 'of', 'the', 'party.\"', '\"My', 'dear,', 'you', 'flatter', 'me.', 'I', 'certainly', 'have', 'had', 'my', 'share', 'of', 'beauty,', 'but', 'I', 'do', 'not', 'pretend', 'to', 'be', 'anything', 'extraordinary', 'now.', 'When', 'a', 'woman', 'has', 'five', 'grown-up', 'daughters,', 'she', 'ought', 'to', 'give', 'over', 'thinking', 'of', 'her', 'own', 'beauty.\"', '\"In', 'such', 'cases,', 'a', 'woman', 'has', 'not', 'often', 'much', 'beauty', 'to', 'think', 'of.\"', '\"But,', 'my', 'dear,', 'you', 'must', 'indeed', 'go', 'and', 'see', 'Mr.', 'Bingley', 'when', 'he', 'comes', 'into', 'the', 'neighbourhood.\"', '\"It', 'is', 'more', 'than', 'I', 'engage', 'for,', 'I', 'assure', 'you.\"', '\"But', 'consider', 'your', 'daughters.', 'Only', 'think', 'what', 'an', 'establishment', 'it', 'would', 'be', 'for', 'one', 'of', 'them.', 'Sir', 'William', 'and', 'Lady', 'Lucas', 'are', 'determined', 'to', 'go,', 'merely', 'on', 'that', 'account,', 'for', 'in', 'general,', 'you', 'know,', 'they', 'visit', 'no', 'newcomers.', 'Indeed', 'you', 'must', 'go,', 'for', 'it', 'will', 'be', 'impossible', 'for', 'us', 'to', 'visit', 'him', 'if', 'you', 'do', 'not.\"', '\"You', 'are', 'over-scrupulous,', 'surely.', 'I', 'dare', 'say', 'Mr.', 'Bingley', 'will', 'be', 'very', 'glad', 'to', 'see', 'you;', 'and', 'I', 'will', 'send', 'a', 'few', 'lines', 'by', 'you', 'to', 'assure', 'him', 'of', 'my', 'hearty', 'consent', 'to', 'his', 'marrying', 'whichever', 'he', 'chooses', 'of', 'the', 'girls;', 'though', 'I', 'must', 'throw', 'in', 'a', 'good', 'word', 'for', 'my', 'little', 'Lizzy.\"', '\"I', 'desire', 'you', 'will', 'do', 'no', 'such', 'thing.', 'Lizzy', 'is', 'not', 'a', 'bit', 'better', 'than', 'the', 'others;', 'and', 'I', 'am', 'sure', 'she', 'is', 'not', 'half', 'so', 'handsome', 'as', 'Jane,', 'nor', 'half', 'so', 'good-humoured', 'as', 'Lydia.', 'But', 'you', 'are', 'always', 'giving', 'her', 'the', 'preference.\"', '\"They', 'have', 'none', 'of', 'them', 'much', 'to', 'recommend', 'them,\"', 'replied', 'he;', '\"they', 'are', 'all', 'silly', 'and', 'ignorant', 'like', 'other', 'girls;', 'but', 'Lizzy', 'has', 'something', 'more', 'of', 'quickness', 'than', 'her', 'sisters.\"', '\"Mr.', 'Bennet,', 'how', 'can', 'you', 'abuse', 'your', 'own', 'children', 'in', 'such', 'a', 'way?', 'You', 'take', 'delight', 'in', 'vexing', 'me.', 'You', 'have', 'no', 'compassion', 'for', 'my', 'poor', 'nerves.\"', '\"You', 'mistake', 'me,', 'my', 'dear.', 'I', 'have', 'a', 'high', 'respect', 'for', 'your', 'nerves.', 'They', 'are', 'my', 'old', 'friends.', 'I', 'have', 'heard', 'you', 'mention', 'them', 'with', 'consideration', 'these', 'last', 'twenty', 'years', 'at', 'least.\"', '\"Ah,', 'you', 'do', 'not', 'know', 'what', 'I', 'suffer.\"', '\"But', 'I', 'hope', 'you', 'will', 'get', 'over', 'it,', 'and', 'live', 'to', 'see', 'many', 'young', 'men', 'of', 'four', 'thousand', 'a', 'year', 'come', 'into', 'the', 'neighbourhood.\"', '\"It', 'will', 'be', 'no', 'use', 'to', 'us,', 'if', 'twenty', 'such', 'should', 'come,', 'since', 'you', 'will', 'not', 'visit', 'them.\"', '\"Depend', 'upon', 'it,', 'my', 'dear,', 'that', 'when', 'there', 'are', 'twenty,', 'I', 'will', 'visit', 'them', 'all.\"', 'Mr.', 'Bennet', 'was', 'so', 'odd', 'a', 'mixture', 'of', 'quick', 'parts,', 'sarcastic', 'humour,', 'reserve,', 'and', 'caprice,', 'that', 'the', 'experience', 'of', 'three-and-twenty', 'years', 'had', 'been', 'insufficient', 'to', 'make', 'his', 'wife', 'understand', 'his', 'character.', 'Her', 'mind', 'was', 'less', 'difficult', 'to', 'develop.', 'She', 'was', 'a', 'woman', 'of', 'mean', 'understanding,', 'little', 'information,', 'and', 'uncertain', 'temper.', 'When', 'she', 'was', 'discontented,', 'she', 'fancied', 'herself', 'nervous.', 'The', 'business', 'of', 'her', 'life', 'was', 'to', 'get', 'her', 'daughters', 'married;', 'its', 'solace', 'was', 'visiting', 'and', 'news.']\n"
     ]
    }
   ],
   "source": [
    "# Split the text into words\n",
    "\n",
    "words = multiline_text.split()\n",
    "print(\"List of words:\", words)\n"
   ]
  },
  {
   "cell_type": "code",
   "execution_count": 13,
   "metadata": {},
   "outputs": [
    {
     "name": "stdout",
     "output_type": "stream",
     "text": [
      "List of unique words: ['dear,', 'is', 'Bennet,', 'How', 'less', 'man', 'Mrs.', '\"Design!', 'determined', 'am', 'girls!\"', 'visiting', 'it.\"', 'love', 'Sir', 'extraordinary', 'Bennet,\"', 'he;', 'single', 'Nonsense,', 'high', 'consider', 'They', 'Lizzy', 'daughters', 'property', 'if', 'none', 'abuse', 'beauty,', 'day,', 'engage', 'be', 'humour,', 'them', 'there', 'own', 'five', '\"Bingley.\"', 'think', 'was', 'Lady', 'views', 'make', '\"My', 'Bennet', 'establishment', 'hearty', 'go,', 'take', '\"for', 'no', 'character.', 'families,', 'respect', 'preference.\"', 'year', 'account,', 'so!', 'But', 'news.', 'fortune', 'still', 'first', 'answer.', 'objection', 'sure', 'thousand', 'young', 'However', 'me', 'from', 'sure!', 'universally', 'say', 'get', '\"But', '\"Is', 'herself', 'known', 'general,', 'fortune;', 'down', 'quickness', 'of', 'than', 'good', 'so?', 'best', 'parts,', 'she', 'us,', 'comes', 'difficult', 'children', 'Her', 'nerves.\"', 'delighted', 'uncertain', 'odd', 'married', 'better,', 'insufficient', 'William', 'occasion', 'understanding,', 'fortune,', '\"Ah,', 'entering', 'therefore', 'or', 'Jane,', 'settling', 'three-and-twenty', '\"In', 'vexing', 'thing.', 'cases,', 'possession', 'truth', 'over-scrupulous,', 'just', 'talk', 'had', 'England;', 'go', 'I', 'single?\"', 'Bingley', 'perhaps', 'enough.', 'four', 'come,', 'our', 'to', 'now.', 'which', 'recommend', '\"Why,', '\"But,', 'though', 'such', '\"You', 'surely.', 'for,', 'Single,', 'Mr.', 'dare', 'sisters.\"', 'about', 'affect', 'since', 'replied', 'sarcastic', 'end', 'like', 'A', 'year.', 'She', '\"How', 'Lizzy.\"', 'caprice,', 'Lydia.', 'married;', 'do', 'It', 'years', 'The', 'Monday', 'Lucas', 'in', 'come', 'see', 'neighbourhood.\"', 'invitation', 'mean', 'thinking', 'hearing', 'anything', 'upon', '\"It', 'heard', 'mention', '\"Depend', 'merely', 'impossible', 'compassion', '\"how', 'whichever', 'know,', 'feelings', 'you;', 'an', 'lines', 'him', 'certainly', 'twenty', 'me.', '\"have', 'into', 'wife,', 'fall', 'should', 'wife.', 'old', 'very', 'thing', 'mistake', 'large', 'here,', 'her', 'of.\"', '\"Do', 'pretend', 'you.\"', 'men', 'reserve,', 'well', 'experience', 'tiresome!', 'my', 'fancied', 'has', 'impatiently.', 'little', 'themselves,', 'last?\"', 'minds', 'design', 'who', 'woman', 'them,\"', 'throw', 'silly', 'visit', 'may', 'temper.', 'this', 'not.', 'Indeed', 'word', 'let', 'want', 'What', 'daughters,', 'she;', '\"they', 'life', 'are', 'dear.', 'but', 'giving', 'give', 'This', 'mind', 'mixture', 'have', 'by', 'Only', 'You', 'way?', 'grown-up', 'When', 'use', 'neighbourhood,', '\"They', 'bit', 'ought', 'Netherfield', 'delight', '\"I', 'you', 'not', 'us', 'can', 'will', 'over', 'lady', 'and', 'cried', 'is,\"', 'assure', 'they', 'ignorant', 'girls', 'desire', 'nervous.', 'he', 'party.\"', 'half', 'as', 'other', '\"What', 'glad', 'them.\"', 'Long', 'chaise', 'at', 'daughters.', 'Michaelmas,', 'a', 'their', 'develop.', 'would', 'send', '\"Mr.', 'surrounding', 'chooses', 'one', 'better', 'told', 'beauty', 'solace', 'said', 'beauty.\"', 'here?\"', 'likely', 'agreed', 'Park', 'came', 'it?\"', 'consideration', 'consent', 'least.\"', 'information,', 'week.\"', 'nerves.', 'wife', 'it', 'me,', 'twenty,', 'house', 'the', 'before', 'hope', 'quick', 'what', 'good-humoured', 'next', 'understand', 'on', 'these', 'place,', 'servants', 'much', 'taken', 'fine', 'that.', 'live', 'north', 'considered', 'returned', 'tell', 'them.', 'indeed', 'girls;', 'them?\"', 'some', 'others;', 'its', 'not.\"', 'his', 'it,', 'more', 'says', 'business', 'immediately;', 'marrying', 'friends.', 'Morris', 'for', 'any', 'acknowledged,', 'many', 'know', 'comes.\"', 'that', 'your', 'something', 'with', 'often', 'dear', 'so', 'always', 'few', 'all.\"', 'soon', 'poor', 'rightful', 'how', 'flatter', 'newcomers.', 'handsome', 'all', 'share', 'suffer.\"', 'name?\"', 'been', 'when', 'made', 'fixed', 'them,', '\"Oh!', 'must', 'nor', 'discontented,', 'last']\n"
     ]
    }
   ],
   "source": [
    "# Get unique words\n",
    "unique_words = list(set(words))\n",
    "print(\"List of unique words:\", unique_words)"
   ]
  },
  {
   "cell_type": "code",
   "execution_count": 14,
   "metadata": {},
   "outputs": [
    {
     "name": "stdout",
     "output_type": "stream",
     "text": [
      "Word Count: {'It': 1, 'is': 11, 'a': 20, 'truth': 2, 'universally': 1, 'acknowledged,': 1, 'that': 14, 'single': 2, 'man': 4, 'in': 11, 'possession': 2, 'of': 28, 'good': 2, 'fortune,': 1, 'must': 7, 'be': 11, 'want': 3, 'wife.': 1, 'However': 1, 'little': 3, 'known': 1, 'the': 17, 'feelings': 1, 'or': 5, 'views': 1, 'such': 5, 'may': 5, 'on': 3, 'his': 11, 'first': 1, 'entering': 1, 'neighbourhood,': 1, 'this': 1, 'so': 6, 'well': 1, 'fixed': 1, 'minds': 1, 'surrounding': 1, 'families,': 1, 'he': 10, 'considered': 1, 'rightful': 1, 'property': 1, 'some': 2, 'one': 5, 'other': 2, 'their': 1, 'daughters.': 2, '\"My': 3, 'dear': 2, 'Mr.': 9, 'Bennet,\"': 2, 'said': 1, 'lady': 1, 'to': 22, 'him': 4, 'day,': 1, '\"have': 1, 'you': 22, 'heard': 2, 'Netherfield': 2, 'Park': 1, 'let': 1, 'at': 2, 'last?\"': 1, 'Bennet': 3, 'replied': 3, 'had': 3, 'not.': 1, '\"But': 3, 'it': 5, 'is,\"': 1, 'returned': 1, 'she;': 1, '\"for': 1, 'Mrs.': 2, 'Long': 2, 'has': 5, 'just': 1, 'been': 2, 'here,': 1, 'and': 16, 'she': 5, 'told': 1, 'me': 1, 'all': 2, 'about': 1, 'it.\"': 2, 'made': 1, 'no': 7, 'answer.': 1, '\"Do': 1, 'not': 7, 'know': 3, 'who': 1, 'taken': 2, 'it?\"': 1, 'cried': 1, 'wife': 2, 'impatiently.': 1, '\"You': 3, 'tell': 1, 'me,': 2, 'I': 15, 'have': 6, 'objection': 1, 'hearing': 1, 'This': 1, 'was': 8, 'invitation': 1, 'enough.': 1, '\"Why,': 1, 'my': 10, 'dear,': 5, 'know,': 2, 'says': 1, 'by': 4, 'young': 2, 'large': 2, 'fortune': 1, 'from': 1, 'north': 1, 'England;': 1, 'came': 1, 'down': 1, 'Monday': 1, 'chaise': 1, 'four': 3, 'see': 5, 'place,': 1, 'much': 3, 'delighted': 1, 'with': 4, 'it,': 3, 'agreed': 1, 'Morris': 1, 'immediately;': 1, 'take': 2, 'before': 1, 'Michaelmas,': 1, 'servants': 1, 'are': 8, 'house': 1, 'end': 1, 'next': 1, 'week.\"': 1, '\"What': 1, 'name?\"': 1, '\"Bingley.\"': 1, '\"Is': 2, 'married': 1, 'single?\"': 1, '\"Oh!': 1, 'Single,': 1, 'sure!': 1, 'A': 1, 'fortune;': 1, 'five': 2, 'thousand': 2, 'year.': 1, 'What': 1, 'fine': 1, 'thing': 1, 'for': 10, 'our': 1, 'girls!\"': 1, '\"How': 1, 'so?': 1, 'How': 1, 'can': 4, 'affect': 1, 'them?\"': 1, 'wife,': 1, '\"how': 1, 'tiresome!': 1, 'You': 4, 'am': 2, 'thinking': 2, 'marrying': 2, 'them.\"': 2, 'design': 1, 'settling': 1, 'here?\"': 1, '\"Design!': 1, 'Nonsense,': 1, 'how': 2, 'talk': 1, 'so!': 1, 'But': 2, 'very': 2, 'likely': 1, 'fall': 1, 'love': 1, 'them,': 2, 'therefore': 1, 'visit': 5, 'as': 7, 'soon': 1, 'comes.\"': 1, '\"I': 2, 'occasion': 1, 'that.': 1, 'girls': 1, 'go,': 3, 'send': 2, 'them': 4, 'themselves,': 1, 'which': 1, 'perhaps': 1, 'will': 9, 'still': 1, 'better,': 1, 'handsome': 2, 'any': 1, 'Bingley': 3, 'like': 2, 'best': 1, 'party.\"': 1, 'flatter': 1, 'me.': 2, 'certainly': 1, 'share': 1, 'beauty,': 1, 'but': 2, 'do': 4, 'pretend': 1, 'anything': 1, 'extraordinary': 1, 'now.': 1, 'When': 2, 'woman': 3, 'grown-up': 1, 'daughters,': 1, 'ought': 1, 'give': 1, 'over': 2, 'her': 5, 'own': 2, 'beauty.\"': 1, '\"In': 1, 'cases,': 1, 'often': 1, 'beauty': 1, 'think': 2, 'of.\"': 1, '\"But,': 1, 'indeed': 1, 'go': 1, 'when': 2, 'comes': 1, 'into': 2, 'neighbourhood.\"': 2, '\"It': 2, 'more': 2, 'than': 3, 'engage': 1, 'for,': 1, 'assure': 2, 'you.\"': 1, 'consider': 1, 'your': 3, 'Only': 1, 'what': 2, 'an': 1, 'establishment': 1, 'would': 1, 'them.': 1, 'Sir': 1, 'William': 1, 'Lady': 1, 'Lucas': 1, 'determined': 1, 'merely': 1, 'account,': 1, 'general,': 1, 'they': 1, 'newcomers.': 1, 'Indeed': 1, 'impossible': 1, 'us': 1, 'if': 2, 'not.\"': 1, 'over-scrupulous,': 1, 'surely.': 1, 'dare': 1, 'say': 1, 'glad': 1, 'you;': 1, 'few': 1, 'lines': 1, 'hearty': 1, 'consent': 1, 'whichever': 1, 'chooses': 1, 'girls;': 2, 'though': 1, 'throw': 1, 'word': 1, 'Lizzy.\"': 1, 'desire': 1, 'thing.': 1, 'Lizzy': 2, 'bit': 1, 'better': 1, 'others;': 1, 'sure': 1, 'half': 2, 'Jane,': 1, 'nor': 1, 'good-humoured': 1, 'Lydia.': 1, 'always': 1, 'giving': 1, 'preference.\"': 1, '\"They': 1, 'none': 1, 'recommend': 1, 'them,\"': 1, 'he;': 1, '\"they': 1, 'silly': 1, 'ignorant': 1, 'something': 1, 'quickness': 1, 'sisters.\"': 1, '\"Mr.': 1, 'Bennet,': 1, 'abuse': 1, 'children': 1, 'way?': 1, 'delight': 1, 'vexing': 1, 'compassion': 1, 'poor': 1, 'nerves.\"': 1, 'mistake': 1, 'dear.': 1, 'high': 1, 'respect': 1, 'nerves.': 1, 'They': 1, 'old': 1, 'friends.': 1, 'mention': 1, 'consideration': 1, 'these': 1, 'last': 1, 'twenty': 2, 'years': 2, 'least.\"': 1, '\"Ah,': 1, 'suffer.\"': 1, 'hope': 1, 'get': 2, 'live': 1, 'many': 1, 'men': 1, 'year': 1, 'come': 1, 'use': 1, 'us,': 1, 'should': 1, 'come,': 1, 'since': 1, '\"Depend': 1, 'upon': 1, 'there': 1, 'twenty,': 1, 'all.\"': 1, 'odd': 1, 'mixture': 1, 'quick': 1, 'parts,': 1, 'sarcastic': 1, 'humour,': 1, 'reserve,': 1, 'caprice,': 1, 'experience': 1, 'three-and-twenty': 1, 'insufficient': 1, 'make': 1, 'understand': 1, 'character.': 1, 'Her': 1, 'mind': 1, 'less': 1, 'difficult': 1, 'develop.': 1, 'She': 1, 'mean': 1, 'understanding,': 1, 'information,': 1, 'uncertain': 1, 'temper.': 1, 'discontented,': 1, 'fancied': 1, 'herself': 1, 'nervous.': 1, 'The': 1, 'business': 1, 'life': 1, 'daughters': 1, 'married;': 1, 'its': 1, 'solace': 1, 'visiting': 1, 'news.': 1}\n"
     ]
    }
   ],
   "source": [
    "# Count occurrences of each word\n",
    "word_count = {}  \n",
    "\n",
    "for word in words:\n",
    "    word_count[word] = word_count.get(word, 0) + 1  \n",
    "print(\"Word Count:\", word_count)"
   ]
  },
  {
   "cell_type": "code",
   "execution_count": 22,
   "metadata": {},
   "outputs": [
    {
     "name": "stdout",
     "output_type": "stream",
     "text": [
      "of: 28\n",
      "to: 22\n",
      "you: 22\n",
      "a: 20\n",
      "the: 17\n",
      "and: 16\n",
      "I: 15\n",
      "that: 14\n",
      "is: 11\n",
      "in: 11\n",
      "be: 11\n",
      "his: 11\n",
      "he: 10\n",
      "my: 10\n",
      "for: 10\n",
      "Mr.: 9\n",
      "will: 9\n",
      "was: 8\n",
      "are: 8\n",
      "must: 7\n",
      "no: 7\n",
      "not: 7\n",
      "as: 7\n",
      "so: 6\n",
      "have: 6\n"
     ]
    }
   ],
   "source": [
    "# Get the top 25 words using slicing\n",
    "sorted_items = sorted(word_count.items(), key=lambda item: item[1], reverse=True)\n",
    "top_items = dict(sorted_items[:25])\n",
    "\n",
    "for key, value in top_items.items():\n",
    "    print(f\"{key}: {value}\")"
   ]
  }
 ],
 "metadata": {
  "kernelspec": {
   "display_name": ".venv",
   "language": "python",
   "name": "python3"
  },
  "language_info": {
   "codemirror_mode": {
    "name": "ipython",
    "version": 3
   },
   "file_extension": ".py",
   "mimetype": "text/x-python",
   "name": "python",
   "nbconvert_exporter": "python",
   "pygments_lexer": "ipython3",
   "version": "3.10.12"
  }
 },
 "nbformat": 4,
 "nbformat_minor": 2
}
