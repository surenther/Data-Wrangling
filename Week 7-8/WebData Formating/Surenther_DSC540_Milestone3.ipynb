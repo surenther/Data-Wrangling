{
 "cells": [
  {
   "cell_type": "markdown",
   "id": "a65a786c",
   "metadata": {},
   "source": [
    "<div style=\"text-align: center;\">\n",
    "  <h2>Milestone 3: Formatting Website Data Source</h2>\n",
    "</div>"
   ]
  },
  {
   "cell_type": "markdown",
   "id": "d955803f",
   "metadata": {},
   "source": [
    "## Data Source and Handling\n",
    "\n",
    "The dataset used in this project was sourced from Wikipedia: [https://en.wikipedia.org/wiki/List_of_countries_by_arable_land_density](https://en.wikipedia.org/wiki/List_of_countries_by_arable_land_density)."
   ]
  },
  {
   "cell_type": "markdown",
   "id": "39175a62",
   "metadata": {},
   "source": [
    "## Steps"
   ]
  },
  {
   "cell_type": "markdown",
   "id": "ecc307c1",
   "metadata": {},
   "source": [
    "### 1 - Import necessary Libraries"
   ]
  },
  {
   "cell_type": "code",
   "execution_count": 17,
   "id": "58fa5253",
   "metadata": {},
   "outputs": [],
   "source": [
    "import pandas as pd\n",
    "import requests\n",
    "from bs4 import BeautifulSoup\n",
    "import re\n",
    "\n",
    "# Ignore all Warnings\n",
    "import warnings\n",
    "warnings.filterwarnings('ignore')"
   ]
  },
  {
   "cell_type": "markdown",
   "id": "9ede09fd",
   "metadata": {},
   "source": [
    "### 2 - Reading Webdata\n",
    "\n",
    "Retrieved data from Wikipedia using the requests library."
   ]
  },
  {
   "cell_type": "code",
   "execution_count": 18,
   "id": "cbb0d1fd",
   "metadata": {},
   "outputs": [
    {
     "name": "stdout",
     "output_type": "stream",
     "text": [
      "Requests status Code: 200\n"
     ]
    }
   ],
   "source": [
    "# Make a get requests to Wikipedia using Requests\n",
    "\n",
    "page= requests.get ('https://en.wikipedia.org/wiki/List_of_countries_by_arable_land_density')\n",
    "print (f'Requests status Code:',page.status_code)\n"
   ]
  },
  {
   "cell_type": "markdown",
   "id": "f5c45378",
   "metadata": {},
   "source": [
    "### 3 - Identify the Tabular component by count\n",
    "\n",
    "Parsed the HTML content with BeautifulSoup to count and analyze the number of tabular elements present."
   ]
  },
  {
   "cell_type": "code",
   "execution_count": 19,
   "id": "5b96ff06",
   "metadata": {},
   "outputs": [
    {
     "name": "stdout",
     "output_type": "stream",
     "text": [
      "Total Tables: 2\n"
     ]
    }
   ],
   "source": [
    "#Read the page from requests response using html parser\n",
    "\n",
    "soup = BeautifulSoup(page.text,'html.parser') \n",
    "\n",
    "tables = soup.findAll(\"table\")  #Scan all the table\n",
    "print (f'Total Tables:',len(tables)) "
   ]
  },
  {
   "cell_type": "markdown",
   "id": "01513d57",
   "metadata": {},
   "source": [
    "### 4 - Identify the right Table\n",
    "\n",
    "Evaluated each table based on the number of rows and columns to identify the most relevant one—Table 1 was selected for its structure and completeness."
   ]
  },
  {
   "cell_type": "code",
   "execution_count": 20,
   "id": "b11f327f",
   "metadata": {},
   "outputs": [
    {
     "name": "stdout",
     "output_type": "stream",
     "text": [
      "Table 1: \n",
      " No of rows: 221 \n",
      " No of columns: 6\n",
      "Table 2: \n",
      " No of rows: 14 \n",
      " No of columns: 6\n"
     ]
    }
   ],
   "source": [
    "# Find the right table by finding no of rows and columns for each table\n",
    "\n",
    "cntr = 0 \n",
    "num_cols = 0\n",
    "\n",
    "for data in tables:\n",
    "    cntr += 1  #Increment the Counter to display Table index\n",
    "    rows = data.find_all('tr') #Find all the tr to find no of rows\n",
    "    \n",
    "    for row in rows: #To find no of columns loop through each row\n",
    "        cols = row.find_all(['th']) #Find all the header\n",
    "        num_cols = max(num_cols, len(cols)) # Get the max of the count\n",
    "\n",
    "    print (f'Table {cntr}: \\n No of rows: {len(rows)} \\n No of columns: {num_cols}')"
   ]
  },
  {
   "cell_type": "markdown",
   "id": "3e4f134b",
   "metadata": {},
   "source": [
    "### 5 - Extract the right Table\n",
    "\n",
    "Extracted data from Table 1 and converted it into a pandas DataFrame for further analysis."
   ]
  },
  {
   "cell_type": "code",
   "execution_count": 21,
   "id": "904aaf4f",
   "metadata": {},
   "outputs": [
    {
     "name": "stdout",
     "output_type": "stream",
     "text": [
      "     Location Arable m²/ person Persons /arable km2 %arable Arableland (km2)  \\\n",
      "0       World             1,800                 570     11%       14,000,000   \n",
      "1  Kazakhstan            15,456                  65     11%          296,697   \n",
      "2   Australia            12,062                  83      4%          312,650   \n",
      "3      Canada            10,027                 100      4%          382,590   \n",
      "4   Argentina             9,322                 107     15%          422,088   \n",
      "\n",
      "      Population  \n",
      "0  7,900,000,000  \n",
      "1     19,196,465  \n",
      "2     25,921,089  \n",
      "3     38,155,012  \n",
      "4     45,276,780  \n"
     ]
    }
   ],
   "source": [
    "# Identify table 1\n",
    "target_table = tables[0]  # 0-based index\n",
    "\n",
    "# Extract headers\n",
    "headers = [th.get_text(strip=True) for th in target_table.find_all('tr')[0].find_all('th')]\n",
    "\n",
    "# Extract all rows\n",
    "rows = []\n",
    "for tr in target_table.find_all('tr')[1:]:\n",
    "    cells = tr.find_all(['td', 'th'])\n",
    "    row = [cell.get_text(strip=True) for cell in cells]\n",
    "    if row and len(row) == len(headers):  # Ensure the row matches column count\n",
    "        rows.append(row)\n",
    "\n",
    "# Create DataFrame\n",
    "df = pd.DataFrame(rows, columns=headers)\n",
    "\n",
    "# Show preview\n",
    "print(df.head())"
   ]
  },
  {
   "cell_type": "markdown",
   "id": "62a52986",
   "metadata": {},
   "source": [
    "### 5 - Replacing column Title\n",
    "\n",
    "Renamed the columns with more descriptive and readable labels to enhance clarity."
   ]
  },
  {
   "cell_type": "code",
   "execution_count": 22,
   "id": "250ab939",
   "metadata": {},
   "outputs": [
    {
     "data": {
      "text/html": [
       "<div>\n",
       "<style scoped>\n",
       "    .dataframe tbody tr th:only-of-type {\n",
       "        vertical-align: middle;\n",
       "    }\n",
       "\n",
       "    .dataframe tbody tr th {\n",
       "        vertical-align: top;\n",
       "    }\n",
       "\n",
       "    .dataframe thead th {\n",
       "        text-align: right;\n",
       "    }\n",
       "</style>\n",
       "<table border=\"1\" class=\"dataframe\">\n",
       "  <thead>\n",
       "    <tr style=\"text-align: right;\">\n",
       "      <th></th>\n",
       "      <th>Area</th>\n",
       "      <th>Arable per person</th>\n",
       "      <th>Person per Arable</th>\n",
       "      <th>Arable%</th>\n",
       "      <th>Total Arable</th>\n",
       "      <th>Population</th>\n",
       "    </tr>\n",
       "  </thead>\n",
       "  <tbody>\n",
       "    <tr>\n",
       "      <th>0</th>\n",
       "      <td>World</td>\n",
       "      <td>1,800</td>\n",
       "      <td>570</td>\n",
       "      <td>11%</td>\n",
       "      <td>14,000,000</td>\n",
       "      <td>7,900,000,000</td>\n",
       "    </tr>\n",
       "    <tr>\n",
       "      <th>1</th>\n",
       "      <td>Kazakhstan</td>\n",
       "      <td>15,456</td>\n",
       "      <td>65</td>\n",
       "      <td>11%</td>\n",
       "      <td>296,697</td>\n",
       "      <td>19,196,465</td>\n",
       "    </tr>\n",
       "    <tr>\n",
       "      <th>2</th>\n",
       "      <td>Australia</td>\n",
       "      <td>12,062</td>\n",
       "      <td>83</td>\n",
       "      <td>4%</td>\n",
       "      <td>312,650</td>\n",
       "      <td>25,921,089</td>\n",
       "    </tr>\n",
       "    <tr>\n",
       "      <th>3</th>\n",
       "      <td>Canada</td>\n",
       "      <td>10,027</td>\n",
       "      <td>100</td>\n",
       "      <td>4%</td>\n",
       "      <td>382,590</td>\n",
       "      <td>38,155,012</td>\n",
       "    </tr>\n",
       "    <tr>\n",
       "      <th>4</th>\n",
       "      <td>Argentina</td>\n",
       "      <td>9,322</td>\n",
       "      <td>107</td>\n",
       "      <td>15%</td>\n",
       "      <td>422,088</td>\n",
       "      <td>45,276,780</td>\n",
       "    </tr>\n",
       "    <tr>\n",
       "      <th>5</th>\n",
       "      <td>Russia</td>\n",
       "      <td>8,384</td>\n",
       "      <td>119</td>\n",
       "      <td>7%</td>\n",
       "      <td>1,216,490</td>\n",
       "      <td>145,102,755</td>\n",
       "    </tr>\n",
       "    <tr>\n",
       "      <th>6</th>\n",
       "      <td>Lithuania</td>\n",
       "      <td>8,178</td>\n",
       "      <td>122</td>\n",
       "      <td>36%</td>\n",
       "      <td>22,790</td>\n",
       "      <td>2,786,651</td>\n",
       "    </tr>\n",
       "    <tr>\n",
       "      <th>7</th>\n",
       "      <td>Ukraine</td>\n",
       "      <td>7,563</td>\n",
       "      <td>132</td>\n",
       "      <td>57%</td>\n",
       "      <td>329,240</td>\n",
       "      <td>43,531,422</td>\n",
       "    </tr>\n",
       "    <tr>\n",
       "      <th>8</th>\n",
       "      <td>Saint Helena, Ascension and Tristan da Cunha</td>\n",
       "      <td>7,402</td>\n",
       "      <td>135</td>\n",
       "      <td>10%</td>\n",
       "      <td>40</td>\n",
       "      <td>5,404</td>\n",
       "    </tr>\n",
       "    <tr>\n",
       "      <th>9</th>\n",
       "      <td>Latvia</td>\n",
       "      <td>7,268</td>\n",
       "      <td>138</td>\n",
       "      <td>22%</td>\n",
       "      <td>13,620</td>\n",
       "      <td>1,873,919</td>\n",
       "    </tr>\n",
       "  </tbody>\n",
       "</table>\n",
       "</div>"
      ],
      "text/plain": [
       "                                           Area Arable per person  \\\n",
       "0                                         World             1,800   \n",
       "1                                    Kazakhstan            15,456   \n",
       "2                                     Australia            12,062   \n",
       "3                                        Canada            10,027   \n",
       "4                                     Argentina             9,322   \n",
       "5                                        Russia             8,384   \n",
       "6                                     Lithuania             8,178   \n",
       "7                                       Ukraine             7,563   \n",
       "8  Saint Helena, Ascension and Tristan da Cunha             7,402   \n",
       "9                                        Latvia             7,268   \n",
       "\n",
       "  Person per Arable Arable% Total Arable     Population  \n",
       "0               570     11%   14,000,000  7,900,000,000  \n",
       "1                65     11%      296,697     19,196,465  \n",
       "2                83      4%      312,650     25,921,089  \n",
       "3               100      4%      382,590     38,155,012  \n",
       "4               107     15%      422,088     45,276,780  \n",
       "5               119      7%    1,216,490    145,102,755  \n",
       "6               122     36%       22,790      2,786,651  \n",
       "7               132     57%      329,240     43,531,422  \n",
       "8               135     10%           40          5,404  \n",
       "9               138     22%       13,620      1,873,919  "
      ]
     },
     "execution_count": 22,
     "metadata": {},
     "output_type": "execute_result"
    }
   ],
   "source": [
    "# Renaming columns\n",
    "df.rename(columns={'Location':'Area','Arable m²/ person':'Arable per person','Persons /arable km2':'Person per Arable','%arable':'Arable%','Arableland (km2)':'Total Arable'}, inplace=True)\n",
    "\n",
    "df.head (10)"
   ]
  },
  {
   "cell_type": "markdown",
   "id": "7ed17866",
   "metadata": {},
   "source": [
    "### 6 - Remove Unwanted columns\n",
    "\n",
    "Focused the dataset on crop production and land usage by removing columns related to population statistics, which are outside the scope of this analysis."
   ]
  },
  {
   "cell_type": "code",
   "execution_count": null,
   "id": "1378c0eb",
   "metadata": {},
   "outputs": [
    {
     "data": {
      "text/html": [
       "<div>\n",
       "<style scoped>\n",
       "    .dataframe tbody tr th:only-of-type {\n",
       "        vertical-align: middle;\n",
       "    }\n",
       "\n",
       "    .dataframe tbody tr th {\n",
       "        vertical-align: top;\n",
       "    }\n",
       "\n",
       "    .dataframe thead th {\n",
       "        text-align: right;\n",
       "    }\n",
       "</style>\n",
       "<table border=\"1\" class=\"dataframe\">\n",
       "  <thead>\n",
       "    <tr style=\"text-align: right;\">\n",
       "      <th></th>\n",
       "      <th>Area</th>\n",
       "      <th>Arable%</th>\n",
       "      <th>Total Arable</th>\n",
       "    </tr>\n",
       "  </thead>\n",
       "  <tbody>\n",
       "    <tr>\n",
       "      <th>0</th>\n",
       "      <td>World</td>\n",
       "      <td>11%</td>\n",
       "      <td>14,000,000</td>\n",
       "    </tr>\n",
       "    <tr>\n",
       "      <th>1</th>\n",
       "      <td>Kazakhstan</td>\n",
       "      <td>11%</td>\n",
       "      <td>296,697</td>\n",
       "    </tr>\n",
       "    <tr>\n",
       "      <th>2</th>\n",
       "      <td>Australia</td>\n",
       "      <td>4%</td>\n",
       "      <td>312,650</td>\n",
       "    </tr>\n",
       "    <tr>\n",
       "      <th>3</th>\n",
       "      <td>Canada</td>\n",
       "      <td>4%</td>\n",
       "      <td>382,590</td>\n",
       "    </tr>\n",
       "    <tr>\n",
       "      <th>4</th>\n",
       "      <td>Argentina</td>\n",
       "      <td>15%</td>\n",
       "      <td>422,088</td>\n",
       "    </tr>\n",
       "    <tr>\n",
       "      <th>...</th>\n",
       "      <td>...</td>\n",
       "      <td>...</td>\n",
       "      <td>...</td>\n",
       "    </tr>\n",
       "    <tr>\n",
       "      <th>210</th>\n",
       "      <td>Bermuda</td>\n",
       "      <td>6%</td>\n",
       "      <td>3</td>\n",
       "    </tr>\n",
       "    <tr>\n",
       "      <th>211</th>\n",
       "      <td>Cayman Islands</td>\n",
       "      <td>0.8%</td>\n",
       "      <td>2</td>\n",
       "    </tr>\n",
       "    <tr>\n",
       "      <th>212</th>\n",
       "      <td>Djibouti</td>\n",
       "      <td>0.1%</td>\n",
       "      <td>30</td>\n",
       "    </tr>\n",
       "    <tr>\n",
       "      <th>213</th>\n",
       "      <td>Kuwait</td>\n",
       "      <td>0.4%</td>\n",
       "      <td>80</td>\n",
       "    </tr>\n",
       "    <tr>\n",
       "      <th>214</th>\n",
       "      <td>Northern Mariana Islands</td>\n",
       "      <td>0.2%</td>\n",
       "      <td>1</td>\n",
       "    </tr>\n",
       "  </tbody>\n",
       "</table>\n",
       "<p>215 rows × 3 columns</p>\n",
       "</div>"
      ],
      "text/plain": [
       "                         Area Arable% Total Arable\n",
       "0                       World     11%   14,000,000\n",
       "1                  Kazakhstan     11%      296,697\n",
       "2                   Australia      4%      312,650\n",
       "3                      Canada      4%      382,590\n",
       "4                   Argentina     15%      422,088\n",
       "..                        ...     ...          ...\n",
       "210                   Bermuda      6%            3\n",
       "211            Cayman Islands    0.8%            2\n",
       "212                  Djibouti    0.1%           30\n",
       "213                    Kuwait    0.4%           80\n",
       "214  Northern Mariana Islands    0.2%            1\n",
       "\n",
       "[215 rows x 3 columns]"
      ]
     },
     "execution_count": 23,
     "metadata": {},
     "output_type": "execute_result"
    }
   ],
   "source": [
    "#Drop columns\n",
    "columns_to_drop = ['Arable per person', 'Person per Arable','Population']\n",
    "df = df.drop(columns_to_drop, axis=1)\n",
    "\n",
    "df.head(-5)"
   ]
  },
  {
   "cell_type": "markdown",
   "id": "526fd3c1",
   "metadata": {},
   "source": [
    "### 7 - Remove Unwanted data\n",
    "\n",
    "Removed aggregate \"World\" data to narrow the focus to individual countries, aligning with the objective of country-specific analysis."
   ]
  },
  {
   "cell_type": "code",
   "execution_count": 26,
   "id": "3f494ce0",
   "metadata": {},
   "outputs": [
    {
     "data": {
      "text/html": [
       "<div>\n",
       "<style scoped>\n",
       "    .dataframe tbody tr th:only-of-type {\n",
       "        vertical-align: middle;\n",
       "    }\n",
       "\n",
       "    .dataframe tbody tr th {\n",
       "        vertical-align: top;\n",
       "    }\n",
       "\n",
       "    .dataframe thead th {\n",
       "        text-align: right;\n",
       "    }\n",
       "</style>\n",
       "<table border=\"1\" class=\"dataframe\">\n",
       "  <thead>\n",
       "    <tr style=\"text-align: right;\">\n",
       "      <th></th>\n",
       "      <th>Area</th>\n",
       "      <th>Arable%</th>\n",
       "      <th>Total Arable</th>\n",
       "    </tr>\n",
       "  </thead>\n",
       "  <tbody>\n",
       "    <tr>\n",
       "      <th>1</th>\n",
       "      <td>Kazakhstan</td>\n",
       "      <td>11%</td>\n",
       "      <td>296,697</td>\n",
       "    </tr>\n",
       "    <tr>\n",
       "      <th>2</th>\n",
       "      <td>Australia</td>\n",
       "      <td>4%</td>\n",
       "      <td>312,650</td>\n",
       "    </tr>\n",
       "    <tr>\n",
       "      <th>3</th>\n",
       "      <td>Canada</td>\n",
       "      <td>4%</td>\n",
       "      <td>382,590</td>\n",
       "    </tr>\n",
       "    <tr>\n",
       "      <th>4</th>\n",
       "      <td>Argentina</td>\n",
       "      <td>15%</td>\n",
       "      <td>422,088</td>\n",
       "    </tr>\n",
       "    <tr>\n",
       "      <th>5</th>\n",
       "      <td>Russia</td>\n",
       "      <td>7%</td>\n",
       "      <td>1,216,490</td>\n",
       "    </tr>\n",
       "    <tr>\n",
       "      <th>...</th>\n",
       "      <td>...</td>\n",
       "      <td>...</td>\n",
       "      <td>...</td>\n",
       "    </tr>\n",
       "    <tr>\n",
       "      <th>210</th>\n",
       "      <td>Bermuda</td>\n",
       "      <td>6%</td>\n",
       "      <td>3</td>\n",
       "    </tr>\n",
       "    <tr>\n",
       "      <th>211</th>\n",
       "      <td>Cayman Islands</td>\n",
       "      <td>0.8%</td>\n",
       "      <td>2</td>\n",
       "    </tr>\n",
       "    <tr>\n",
       "      <th>212</th>\n",
       "      <td>Djibouti</td>\n",
       "      <td>0.1%</td>\n",
       "      <td>30</td>\n",
       "    </tr>\n",
       "    <tr>\n",
       "      <th>213</th>\n",
       "      <td>Kuwait</td>\n",
       "      <td>0.4%</td>\n",
       "      <td>80</td>\n",
       "    </tr>\n",
       "    <tr>\n",
       "      <th>214</th>\n",
       "      <td>Northern Mariana Islands</td>\n",
       "      <td>0.2%</td>\n",
       "      <td>1</td>\n",
       "    </tr>\n",
       "  </tbody>\n",
       "</table>\n",
       "<p>214 rows × 3 columns</p>\n",
       "</div>"
      ],
      "text/plain": [
       "                         Area Arable% Total Arable\n",
       "1                  Kazakhstan     11%      296,697\n",
       "2                   Australia      4%      312,650\n",
       "3                      Canada      4%      382,590\n",
       "4                   Argentina     15%      422,088\n",
       "5                      Russia      7%    1,216,490\n",
       "..                        ...     ...          ...\n",
       "210                   Bermuda      6%            3\n",
       "211            Cayman Islands    0.8%            2\n",
       "212                  Djibouti    0.1%           30\n",
       "213                    Kuwait    0.4%           80\n",
       "214  Northern Mariana Islands    0.2%            1\n",
       "\n",
       "[214 rows x 3 columns]"
      ]
     },
     "execution_count": 26,
     "metadata": {},
     "output_type": "execute_result"
    }
   ],
   "source": [
    "# Drop records\n",
    "\n",
    "i = df[(df.Area == 'World')].index #find index for World record\n",
    "df.drop(i,axis=0,inplace=True)\n",
    "\n",
    "df.head(-5)"
   ]
  },
  {
   "cell_type": "markdown",
   "id": "e0fef5ff",
   "metadata": {},
   "source": [
    "Given that this dataset from Wikipedia is already cleaned, sourced from 2021, and well-structured, there is currently no need to perform duplicate checks, outlier detection, or apply fuzzy logic. Based on the context and clarity of the data, additional transformations are not required at this stage. However, future transformations may be considered if this dataset is joined with others."
   ]
  },
  {
   "cell_type": "markdown",
   "id": "4200d983",
   "metadata": {},
   "source": [
    "### Ethical Considerations in Wrangling Open-Source Agricultural Data from Wikipedia\n",
    "\n",
    "The data wrangling process for this project involved retrieving publicly available data from Wikipedia, parsing and extracting tabular information using BeautifulSoup, and converting it into a structured pandas DataFrame. Key transformations included selecting the most comprehensive table (Table 1), cleaning and renaming column headers for clarity, and narrowing the dataset by removing non-country-specific or unrelated information (like aggregate “World” data and population metrics). Since Wikipedia is an open-source platform with collaborative contributions, while generally reliable, the credibility of the data relies on the quality and accuracy of its sources—usually cited in the references. No private or personally identifiable information was used, so there are no major legal restrictions under common data regulations like GDPR. However, the primary ethical risk lies in making analytical decisions based on potentially outdated or user-modified content. Assumptions made during cleaning—such as interpreting column meanings and removing certain data rows—could influence analysis outcomes if not transparently documented. To mitigate ethical concerns, it is important to cross-reference this data with official sources such as the UN or World Bank and clearly document any assumptions or transformations made, maintaining transparency throughout the project."
   ]
  }
 ],
 "metadata": {
  "kernelspec": {
   "display_name": ".venv",
   "language": "python",
   "name": "python3"
  },
  "language_info": {
   "codemirror_mode": {
    "name": "ipython",
    "version": 3
   },
   "file_extension": ".py",
   "mimetype": "text/x-python",
   "name": "python",
   "nbconvert_exporter": "python",
   "pygments_lexer": "ipython3",
   "version": "3.9.6"
  }
 },
 "nbformat": 4,
 "nbformat_minor": 5
}
